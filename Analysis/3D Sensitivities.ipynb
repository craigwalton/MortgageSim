{
 "cells": [
  {
   "cell_type": "code",
   "execution_count": null,
   "id": "017aa521",
   "metadata": {},
   "outputs": [],
   "source": [
    "import plotly.graph_objects as go\n",
    "from analysis import *"
   ]
  },
  {
   "cell_type": "markdown",
   "id": "3280e891",
   "metadata": {},
   "source": [
    "This notebook compares sensitivities of 3 variables per plot, sweeping through a range of plausible values for each variable.\n",
    "\n",
    "A positive `delta` indicates that buying would result in a financial gain over renting after 5 years."
   ]
  },
  {
   "cell_type": "code",
   "execution_count": null,
   "id": "8b581787",
   "metadata": {
    "scrolled": false
   },
   "outputs": [],
   "source": [
    "def plot_contour_3d(var_1, var_2, var_3):\n",
    "    df = load_csv_from_vars(var_1, var_2, var_3)\n",
    "    fig = go.Figure(\n",
    "        data=go.Volume(\n",
    "            x=df[var_1] * infer_multiplier(var_1),\n",
    "            y=df[var_2] * infer_multiplier(var_2),\n",
    "            z=df[var_3] * infer_multiplier(var_3),\n",
    "            value=df[\"delta\"],\n",
    "            colorscale=\"RdBu\",\n",
    "            cmin=-300_000,\n",
    "            cmax=300_000,\n",
    "            opacity=0.7,\n",
    "            surface_count=7,\n",
    "            isomin=-300_000,\n",
    "            isomax=300_000,\n",
    "            caps=dict(x_show=False, y_show=False, z_show=False),\n",
    "        )\n",
    "    )\n",
    "    fig.update_layout(\n",
    "        scene=dict(\n",
    "            xaxis_title=get_axis_title(var_1),\n",
    "            xaxis_title_font_color=get_color(var_1),\n",
    "            yaxis_title=get_axis_title(var_2),\n",
    "            yaxis_title_font_color=get_color(var_2),\n",
    "            zaxis_title=get_axis_title(var_3),\n",
    "            zaxis_title_font_color=get_color(var_3),\n",
    "        ),\n",
    "    )\n",
    "    add_baseline(fig, var_1, var_2, var_3)\n",
    "    return fig\n",
    "\n",
    "\n",
    "def add_baseline(fig, var_1, var_2, var_3):\n",
    "    df = load_csv(\"baseline\")\n",
    "    fig.add_trace(\n",
    "        go.Scatter3d(\n",
    "            x=df[var_1] * infer_multiplier(var_1),\n",
    "            y=df[var_2] * infer_multiplier(var_2),\n",
    "            z=df[var_3] * infer_multiplier(var_3),\n",
    "            mode=\"markers+text\",\n",
    "            name=\"Baseline\",\n",
    "            text=[\"Baseline\"],\n",
    "            textposition=\"bottom center\",\n",
    "            marker=dict(color=\"green\"),\n",
    "        )\n",
    "    )"
   ]
  },
  {
   "cell_type": "code",
   "execution_count": null,
   "id": "ff060eee",
   "metadata": {},
   "outputs": [],
   "source": [
    "fig = plot_contour_3d(\n",
    "    \"initialMonthlyRentPrice\",\n",
    "    \"mortgageInterestRate\",\n",
    "    \"propertyValueYearlyIncrease\",\n",
    ")\n",
    "fig.show()\n",
    "save(fig, \"initialMonthlyRentPrice-mortgageInterestRate-propertyValueYearlyIncrease\")"
   ]
  }
 ],
 "metadata": {
  "kernelspec": {
   "display_name": "Python 3 (ipykernel)",
   "language": "python",
   "name": "python3"
  },
  "language_info": {
   "codemirror_mode": {
    "name": "ipython",
    "version": 3
   },
   "file_extension": ".py",
   "mimetype": "text/x-python",
   "name": "python",
   "nbconvert_exporter": "python",
   "pygments_lexer": "ipython3",
   "version": "3.11.5"
  }
 },
 "nbformat": 4,
 "nbformat_minor": 5
}
