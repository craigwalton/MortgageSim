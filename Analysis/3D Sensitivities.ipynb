{
 "cells": [
  {
   "cell_type": "code",
   "execution_count": null,
   "id": "017aa521",
   "metadata": {},
   "outputs": [],
   "source": [
    "import pandas as pd\n",
    "import plotly.graph_objects as go\n",
    "from inflection import titleize"
   ]
  },
  {
   "cell_type": "markdown",
   "id": "3280e891",
   "metadata": {},
   "source": [
    "This notebook compares sensitivities of 3 variables per plot, sweeping through a range of plausible values for each variable.\n",
    "\n",
    "A positive `delta` indicates that buying would result in a financial gain over renting after 5 years."
   ]
  },
  {
   "cell_type": "code",
   "execution_count": null,
   "id": "8b581787",
   "metadata": {
    "scrolled": false
   },
   "outputs": [],
   "source": [
    "def plot_contour_3d(var_1, var_1_units, var_2, var_2_units, var_3, var_3_units):\n",
    "    df = pd.read_csv(f'../Data/{var_1}-{var_2}-{var_3}.csv')\n",
    "    var_1_multiplier = infer_multipler(var_1_units)\n",
    "    var_2_multiplier = infer_multipler(var_2_units)\n",
    "    var_3_multiplier = infer_multipler(var_3_units)\n",
    "    fig = go.Figure(data=go.Volume(\n",
    "        x=df[var_1] * var_1_multiplier,\n",
    "        y=df[var_2] * var_2_multiplier,\n",
    "        z=df[var_3] * var_3_multiplier,\n",
    "        value=df['delta'],\n",
    "        colorscale='RdBu',\n",
    "        cmin=-300000,\n",
    "        cmax=300000,\n",
    "        opacity=0.7,\n",
    "        surface_count=7,\n",
    "        caps=dict(x_show=False, y_show=False, z_show=False),\n",
    "        ))\n",
    "    fig.update_layout(\n",
    "        width=800,\n",
    "        height=800,\n",
    "        scene=dict(\n",
    "            xaxis_title=f'{titleize(var_1)} ({var_1_units})',\n",
    "            yaxis_title=f'{titleize(var_2)} ({var_2_units})',\n",
    "            zaxis_title=f'{titleize(var_3)} ({var_3_units})',\n",
    "        )\n",
    "    )\n",
    "    add_baseline(fig, var_1, var_1_multiplier, var_2, var_2_multiplier, var_3, var_3_multiplier)\n",
    "    fig.show()\n",
    "\n",
    "def infer_multipler(units):\n",
    "    return 100 if units == '%' else 1\n",
    "\n",
    "def add_baseline(fig, var_1, var_1_multiplier, var_2, var_2_multiplier, var_3, var_3_multiplier):\n",
    "    df = pd.read_csv('../Data/baseline.csv')\n",
    "    fig.add_trace(go.Scatter3d(\n",
    "        x=df[var_1] * var_1_multiplier,\n",
    "        y=df[var_2] * var_2_multiplier,\n",
    "        z=df[var_3] * var_3_multiplier,\n",
    "        mode=\"markers+text\",\n",
    "        name=\"Baseline\",\n",
    "        text=[\"Baseline\"],\n",
    "        textposition=\"bottom center\",\n",
    "        marker=dict(color='green'),\n",
    "    ))"
   ]
  },
  {
   "cell_type": "code",
   "execution_count": null,
   "id": "ff060eee",
   "metadata": {},
   "outputs": [],
   "source": [
    "plot_contour_3d('mortgageInterestRate', '%', 'propertyValueYearlyIncrease', '%', 'initialMonthlyRentPrice', '£')"
   ]
  }
 ],
 "metadata": {
  "kernelspec": {
   "display_name": "Python 3 (ipykernel)",
   "language": "python",
   "name": "python3"
  },
  "language_info": {
   "codemirror_mode": {
    "name": "ipython",
    "version": 3
   },
   "file_extension": ".py",
   "mimetype": "text/x-python",
   "name": "python",
   "nbconvert_exporter": "python",
   "pygments_lexer": "ipython3",
   "version": "3.11.5"
  }
 },
 "nbformat": 4,
 "nbformat_minor": 5
}
