{
 "cells": [
  {
   "cell_type": "code",
   "execution_count": null,
   "id": "9aba45d9",
   "metadata": {},
   "outputs": [],
   "source": [
    "import plotly.graph_objects as go\n",
    "from analysis import *"
   ]
  },
  {
   "cell_type": "markdown",
   "id": "5f38d53e",
   "metadata": {},
   "source": [
    "This notebook compares sensitivities of 2 variables per plot, sweeping through a range of plausible values for each variable.\n",
    "\n",
    "A positive `delta` indicates that buying would result in a financial gain over renting after 5 years."
   ]
  },
  {
   "cell_type": "code",
   "execution_count": null,
   "id": "146983a6",
   "metadata": {},
   "outputs": [],
   "source": [
    "def plot_contour_2d(var_1, var_2):\n",
    "    df = load_csv(f\"{var_1}-{var_2}\")\n",
    "    fig = go.Figure(\n",
    "        data=go.Contour(\n",
    "            x=df[var_1] * infer_multiplier(var_1),\n",
    "            y=df[var_2] * infer_multiplier(var_2),\n",
    "            z=df[\"delta\"],\n",
    "            colorscale=\"RdBu\",\n",
    "            contours=dict(\n",
    "                coloring=\"heatmap\",\n",
    "                size=50_000,\n",
    "                showlabels=True,\n",
    "                start=-300_000,\n",
    "                end=300_000,\n",
    "            ),\n",
    "        )\n",
    "    )\n",
    "    add_2d_baseline(fig, var_1, var_2)\n",
    "    fig.update_layout(\n",
    "        xaxis_title=get_axis_title(var_1),\n",
    "        yaxis_title=get_axis_title(var_2),\n",
    "    )\n",
    "    return fig"
   ]
  },
  {
   "cell_type": "markdown",
   "id": "34ba17b5",
   "metadata": {},
   "source": [
    "## Mortgage interest rates vs savings interest rates\n",
    "\n",
    "In the one-at-a-time analysis, we saw that the model is very sensitive to the mortgage interest rate and to a lesser degree, the savings interest rate.\n",
    "\n",
    "These were changed in isolation, but in reality, they aren't truly independent. They're likely to both move roughly in step with the Bank of England's base rate.\n",
    "\n",
    "In the 2D contour plot below, "
   ]
  },
  {
   "cell_type": "code",
   "execution_count": null,
   "id": "fb403774",
   "metadata": {
    "scrolled": false
   },
   "outputs": [],
   "source": [
    "fig = plot_contour_2d(\"mortgageInterestRate\", \"savingsInterestRate\")\n",
    "fig.show()\n",
    "save(fig, 'mortgageInterestRate-savingsInterestRate')"
   ]
  },
  {
   "cell_type": "markdown",
   "id": "a2c5e94f",
   "metadata": {},
   "source": [
    "## Mortgage interest rates vs property value growth\n",
    "\n",
    "The 2D contour plot below maps out the effect that the two most powerful variables have on the model.\n",
    "\n",
    "At the extremes, a high interest rate and negative property value growth results in the buyer being £225k worse off than the renter. On the other hand, a low interest rate and high property value growth results in the buyer being £275k better off than the renter."
   ]
  },
  {
   "cell_type": "code",
   "execution_count": null,
   "id": "b8951c54",
   "metadata": {},
   "outputs": [],
   "source": [
    "fig = plot_contour_2d(\"mortgageInterestRate\", \"propertyValueYearlyIncrease\")\n",
    "fig.show()\n",
    "save(fig, 'mortgageInterestRate-propertyValueYearlyIncrease')"
   ]
  },
  {
   "cell_type": "markdown",
   "id": "2c0659f8",
   "metadata": {},
   "source": [
    "## Rent: initial and growth"
   ]
  },
  {
   "cell_type": "code",
   "execution_count": null,
   "id": "7074a6bc",
   "metadata": {},
   "outputs": [],
   "source": [
    "fig = plot_contour_2d(\"initialMonthlyRentPrice\", \"rentPriceYearlyIncrease\")\n",
    "fig.show()\n",
    "save(fig, 'initialMonthlyRentPrice-rentPriceYearlyIncrease')"
   ]
  },
  {
   "cell_type": "markdown",
   "id": "5e51fb87",
   "metadata": {},
   "source": [
    "## Property value versus monthly rent\n",
    "\n",
    "We've assumed that the prospective buyer is in the market for a property valued at £200k which would cost £1,200/month in rent.\n",
    "\n",
    "What are the effects of reducing or stretching the budget?\n",
    "\n",
    "The grey dotted line shows an approximate expected relationship between property values and rent prices."
   ]
  },
  {
   "cell_type": "code",
   "execution_count": null,
   "id": "44149f02",
   "metadata": {},
   "outputs": [],
   "source": [
    "fig = plot_contour_2d(\"initialPropertyValue\", \"initialMonthlyRentPrice\")\n",
    "fig.add_trace(\n",
    "    go.Scatter(\n",
    "        x=[100000, 500000],\n",
    "        y=[600, 3000],\n",
    "        showlegend=False,\n",
    "        mode=\"lines\",\n",
    "        line={\"color\": \"gray\", \"dash\": \"dot\"},\n",
    "    )\n",
    ")\n",
    "fig.update_layout(yaxis={\"range\": [500, 3000]})\n",
    "fig.show()\n",
    "save(fig, 'initialPropertyValue-initialMonthlyRentPrice')"
   ]
  }
 ],
 "metadata": {
  "kernelspec": {
   "display_name": "Python 3 (ipykernel)",
   "language": "python",
   "name": "python3"
  },
  "language_info": {
   "codemirror_mode": {
    "name": "ipython",
    "version": 3
   },
   "file_extension": ".py",
   "mimetype": "text/x-python",
   "name": "python",
   "nbconvert_exporter": "python",
   "pygments_lexer": "ipython3",
   "version": "3.11.5"
  }
 },
 "nbformat": 4,
 "nbformat_minor": 5
}
