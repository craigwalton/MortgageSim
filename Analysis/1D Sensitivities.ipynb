{
 "cells": [
  {
   "cell_type": "code",
   "execution_count": null,
   "id": "cb7a7559",
   "metadata": {},
   "outputs": [],
   "source": [
    "import plotly.graph_objects as go\n",
    "from plotly.subplots import make_subplots\n",
    "import numpy as np\n",
    "from analysis import *"
   ]
  },
  {
   "cell_type": "markdown",
   "id": "47ef494b",
   "metadata": {},
   "source": [
    "This notebook compares sensitivities of individual variables, changing one-at-a-time (OAT). The rest of the variables remain as per baseline.\n",
    "\n",
    "A positive `delta` indicates that buying would result in a financial gain over renting after 5 years."
   ]
  },
  {
   "cell_type": "markdown",
   "id": "188376b8",
   "metadata": {},
   "source": [
    "## Baseline"
   ]
  },
  {
   "cell_type": "code",
   "execution_count": null,
   "id": "43bad38d",
   "metadata": {},
   "outputs": [],
   "source": [
    "print_baseline()"
   ]
  },
  {
   "cell_type": "code",
   "execution_count": null,
   "id": "79b1abfe",
   "metadata": {},
   "outputs": [],
   "source": [
    "vars = [\n",
    "    (\"initialPropertyValue\", \"£\", 2),\n",
    "    (\"propertyValueYearlyIncrease\", \"%\", 1),\n",
    "    (\"mortgageInterestRate\", \"%\", 1),\n",
    "    (\"initialMonthlyRentPrice\", \"£\", 3),\n",
    "    (\"rentPriceYearlyIncrease\", \"%\", 1),\n",
    "    (\"savingsInterestRate\", \"%\", 1),\n",
    "]\n",
    "\n",
    "\n",
    "def scatter(var, units, slope=False):\n",
    "    df = load_csv(var)\n",
    "    y = df[\"delta\"] if slope == False else np.gradient(df[\"delta\"])\n",
    "    units_prefix = units if units == \"£\" else \"\"\n",
    "    units_suffix = units if units == \"%\" else \"\"\n",
    "    return go.Scatter(\n",
    "        x=df[var] * infer_multiplier(units),\n",
    "        y=y,\n",
    "        name=get_axis_title(var),\n",
    "        mode=\"markers+lines\",\n",
    "        hovertemplate=f\"{units_prefix}%{{x}}{units_suffix}, £%{{y}}\",\n",
    "    )"
   ]
  },
  {
   "cell_type": "code",
   "execution_count": null,
   "id": "46c8c29b",
   "metadata": {},
   "outputs": [],
   "source": [
    "fig = make_subplots(cols=3)\n",
    "for name, units, col in vars:\n",
    "    fig.add_trace(scatter(name, units), row=1, col=col)\n",
    "fig.add_hline(\n",
    "    56000,\n",
    "    line_color=\"green\",\n",
    "    line_dash=\"dash\",\n",
    "    line_width=0.5,\n",
    "    annotation_text=\"Baseline\",\n",
    ")\n",
    "fig.add_hline(0, line_color=\"black\", line_width=2)\n",
    "y_range = [-100_000, 250_000]\n",
    "fig.update_layout(\n",
    "    xaxis1={\"title_text\": \"Value (%)\"},\n",
    "    xaxis2={\"title_text\": get_axis_title(\"initialPropertyValue\")},\n",
    "    xaxis3={\"title_text\": get_axis_title(\"initialMonthlyRentPrice\")},\n",
    "    yaxis1={\"range\": y_range, \"title_text\": \"Delta (£)\"},\n",
    "    yaxis2={\"range\": y_range, \"title_text\": \"Delta (£)\"},\n",
    "    yaxis3={\"range\": y_range, \"title_text\": \"Delta (£)\"},\n",
    ")\n",
    "fig.show()"
   ]
  },
  {
   "cell_type": "code",
   "execution_count": null,
   "id": "c4e4c09b",
   "metadata": {},
   "outputs": [],
   "source": [
    "fig = make_subplots(cols=3)\n",
    "for name, units, col in vars:\n",
    "    fig.add_trace(scatter(name, units, slope=True), row=1, col=col)\n",
    "y_range = [-20_000, 20_000]\n",
    "fig.update_layout(\n",
    "    xaxis1={\"title_text\": \"Value (%)\"},\n",
    "    xaxis2={\"title_text\": get_axis_title(\"initialPropertyValue\")},\n",
    "    xaxis3={\"title_text\": get_axis_title(\"initialMonthlyRentPrice\")},\n",
    "    yaxis1={\"range\": y_range, \"title_text\": \"Slope (£/%pt)\"},\n",
    "    yaxis2={\"range\": y_range, \"title_text\": \"Slope (£/£)\"},\n",
    "    yaxis3={\"range\": y_range, \"title_text\": \"Slope (£/£)\"},\n",
    ")\n",
    "fig.show()"
   ]
  }
 ],
 "metadata": {
  "kernelspec": {
   "display_name": "Python 3 (ipykernel)",
   "language": "python",
   "name": "python3"
  },
  "language_info": {
   "codemirror_mode": {
    "name": "ipython",
    "version": 3
   },
   "file_extension": ".py",
   "mimetype": "text/x-python",
   "name": "python",
   "nbconvert_exporter": "python",
   "pygments_lexer": "ipython3",
   "version": "3.11.5"
  }
 },
 "nbformat": 4,
 "nbformat_minor": 5
}
