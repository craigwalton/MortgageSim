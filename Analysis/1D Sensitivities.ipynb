{
 "cells": [
  {
   "cell_type": "code",
   "execution_count": null,
   "id": "cb7a7559",
   "metadata": {},
   "outputs": [],
   "source": [
    "import pandas as pd\n",
    "import plotly.graph_objects as go\n",
    "import numpy as np\n",
    "from inflection import titleize"
   ]
  },
  {
   "cell_type": "markdown",
   "id": "47ef494b",
   "metadata": {},
   "source": [
    "This notebook compares sensitivities of individual variables, changing one-at-a-time (OAT). The rest of the variables remain as per baseline.\n",
    "\n",
    "A positive `delta` indicates that buying would result in a financial gain over renting after 5 years."
   ]
  },
  {
   "cell_type": "code",
   "execution_count": null,
   "id": "7d0845d7",
   "metadata": {},
   "outputs": [],
   "source": [
    "def plot(var, units='%'):\n",
    "    df = pd.read_csv(f'../Data/{var}.csv')\n",
    "    multiplier = 100 if units == '%' else 1\n",
    "    fig = go.Figure(\n",
    "        data=go.Scatter(x=df[var] * multiplier, y=df['delta'], name='Trace', mode='markers+lines'),\n",
    "    )\n",
    "    add_baseline(fig, var, multiplier)\n",
    "    fig.update_layout(\n",
    "        xaxis_title=f'{titleize(var)} ({units})',\n",
    "        yaxis_title='Delta (£)',\n",
    "        showlegend=False,\n",
    "    )\n",
    "    fig.show()\n",
    "    slope = np.gradient(df['delta'])\n",
    "    print(f'gradient: [{slope.min():.0f}, {slope.max():.0f}]')\n",
    "\n",
    "def add_baseline(fig, var, multiplier):\n",
    "    df = pd.read_csv('../Data/baseline.csv')\n",
    "    fig.add_trace(go.Scatter(\n",
    "        x=df[var] * multiplier,\n",
    "        y=df['delta'],\n",
    "        mode=\"markers+text\",\n",
    "        name=\"Baseline\",\n",
    "        text=[\"Baseline\"],\n",
    "        textposition=\"bottom center\",\n",
    "        marker=dict(color='green'),\n",
    "    ))"
   ]
  },
  {
   "cell_type": "markdown",
   "id": "188376b8",
   "metadata": {},
   "source": [
    "## Baseline"
   ]
  },
  {
   "cell_type": "code",
   "execution_count": null,
   "id": "2bc4487d",
   "metadata": {},
   "outputs": [],
   "source": [
    "df = pd.read_csv('../Data/baseline.csv')\n",
    "df.transpose()"
   ]
  },
  {
   "cell_type": "markdown",
   "id": "8dfa2c72",
   "metadata": {},
   "source": [
    "## Property Value Increase Sensistivity\n",
    "\n",
    "Each 1%pt increase of yearly property value growth results in approx. +£[6k, 16k] net worth in the 5-year purchase scenario."
   ]
  },
  {
   "cell_type": "code",
   "execution_count": null,
   "id": "06c4c9d6",
   "metadata": {},
   "outputs": [],
   "source": [
    "plot('propertyValueYearlyIncrease')"
   ]
  },
  {
   "cell_type": "markdown",
   "id": "f7f994fd",
   "metadata": {},
   "source": [
    "## Mortgage Interest Rate Sensistivity\n",
    "\n",
    "Each 1%pt increase in mortgage interest rate results in approx. -£10k net worth in the 5-year purchase scenario."
   ]
  },
  {
   "cell_type": "code",
   "execution_count": null,
   "id": "769beeb3",
   "metadata": {},
   "outputs": [],
   "source": [
    "plot('mortgageInterestRate')"
   ]
  },
  {
   "cell_type": "markdown",
   "id": "566fd7a0",
   "metadata": {},
   "source": [
    "## Savings Interest Rate Sensistivity\n",
    "\n",
    "A 1%pt increase in savings interest rate results in approx. -[£500, £3k] net worth in the 5-year purchase scenario."
   ]
  },
  {
   "cell_type": "code",
   "execution_count": null,
   "id": "5f57edc0",
   "metadata": {},
   "outputs": [],
   "source": [
    "plot('savingsInterestRate')"
   ]
  },
  {
   "cell_type": "markdown",
   "id": "b32ea91f",
   "metadata": {},
   "source": [
    "## Rent Price Sensitivity\n",
    "\n",
    "Each £100 increase in initial monthly rent results in approx. +£7,200 net worth in the 5-year purchase scenario."
   ]
  },
  {
   "cell_type": "code",
   "execution_count": null,
   "id": "066e86f6",
   "metadata": {},
   "outputs": [],
   "source": [
    "plot('initialMonthlyRentPrice', '£')"
   ]
  }
 ],
 "metadata": {
  "kernelspec": {
   "display_name": "Python 3 (ipykernel)",
   "language": "python",
   "name": "python3"
  },
  "language_info": {
   "codemirror_mode": {
    "name": "ipython",
    "version": 3
   },
   "file_extension": ".py",
   "mimetype": "text/x-python",
   "name": "python",
   "nbconvert_exporter": "python",
   "pygments_lexer": "ipython3",
   "version": "3.11.5"
  }
 },
 "nbformat": 4,
 "nbformat_minor": 5
}
