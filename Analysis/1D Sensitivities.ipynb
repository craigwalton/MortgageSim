{
 "cells": [
  {
   "cell_type": "code",
   "execution_count": 1,
   "id": "cb7a7559",
   "metadata": {},
   "outputs": [],
   "source": [
    "import plotly.graph_objects as go\n",
    "from plotly.subplots import make_subplots\n",
    "import numpy as np\n",
    "from analysis import *\n",
    "import plotly.offline as offline"
   ]
  },
  {
   "cell_type": "markdown",
   "id": "47ef494b",
   "metadata": {},
   "source": [
    "This notebook compares sensitivities of individual variables, changing one-at-a-time (OAT). The rest of the variables remain as per baseline.\n",
    "\n",
    "A positive `delta` indicates that buying would result in a financial gain over renting after 5 years."
   ]
  },
  {
   "cell_type": "markdown",
   "id": "188376b8",
   "metadata": {},
   "source": [
    "## Baseline"
   ]
  },
  {
   "cell_type": "code",
   "execution_count": 2,
   "id": "43bad38d",
   "metadata": {},
   "outputs": [
    {
     "name": "stdout",
     "output_type": "stream",
     "text": [
      "Simulation Duration                    5 years\n",
      "Deposit                            30000 £\n",
      "Initial Property Value            200000 £\n",
      "Property Value Yearly Increase     0.025 %\n",
      "Mortgage Term                         25 years\n",
      "Mortgage Interest Rate              0.05 %\n",
      "Initial Monthly Rent Price          1200 £\n",
      "Rent Price Yearly Increase          0.03 %\n",
      "Savings Interest Rate               0.05 %\n",
      "Delta                              56008 £\n"
     ]
    }
   ],
   "source": [
    "print_baseline()"
   ]
  },
  {
   "cell_type": "code",
   "execution_count": 3,
   "id": "79b1abfe",
   "metadata": {},
   "outputs": [],
   "source": [
    "vars = [\n",
    "    (\"initialPropertyValue\", \"£\", 2),\n",
    "    (\"propertyValueYearlyIncrease\", \"%\", 1),\n",
    "    (\"mortgageInterestRate\", \"%\", 1),\n",
    "    (\"initialMonthlyRentPrice\", \"£\", 3),\n",
    "    (\"rentPriceYearlyIncrease\", \"%\", 1),\n",
    "    (\"savingsInterestRate\", \"%\", 1),\n",
    "]\n",
    "\n",
    "\n",
    "def scatter(var, units, slope=False):\n",
    "    df = load_csv(var)\n",
    "    y = df[\"delta\"] if slope == False else np.gradient(df[\"delta\"])\n",
    "    units_prefix = units if units == \"£\" else \"\"\n",
    "    units_suffix = units if units == \"%\" else \"\"\n",
    "    return go.Scatter(\n",
    "        x=df[var] * infer_multiplier(units),\n",
    "        y=y,\n",
    "        name=get_axis_title(var),\n",
    "        mode=\"markers+lines\",\n",
    "        hovertemplate=f\"{units_prefix}%{{x}}{units_suffix}, £%{{y}}\",\n",
    "    )"
   ]
  },
  {
   "cell_type": "code",
   "execution_count": 33,
   "id": "46c8c29b",
   "metadata": {},
   "outputs": [
    {
     "data": {
      "application/vnd.plotly.v1+json": {
       "config": {
        "plotlyServerURL": "https://plot.ly"
       },
       "data": [
        {
         "hovertemplate": "£%{x}, £%{y}",
         "mode": "markers+lines",
         "name": "Initial Property Value (£)",
         "type": "scatter",
         "x": [
          100000,
          110000,
          120000,
          130000,
          140000,
          150000,
          160000,
          170000,
          180000,
          190000,
          200000,
          210000,
          220000,
          230000,
          240000,
          250000,
          260000,
          270000,
          280000,
          290000,
          300000,
          310000,
          320000,
          330000,
          340000,
          350000,
          360000,
          370000,
          380000,
          390000,
          400000,
          410000,
          420000,
          430000,
          440000,
          450000,
          460000,
          470000,
          480000,
          490000,
          500000
         ],
         "xaxis": "x2",
         "y": [
          71202.70087692038,
          69683.19622079149,
          68163.69156466261,
          66644.18690853374,
          65124.68225240486,
          63605.177596275986,
          62085.6729401471,
          60566.168284018226,
          59046.66362788934,
          57527.15897176047,
          56007.65431563159,
          54488.14965950271,
          52968.64500337383,
          51449.14034724495,
          49929.63569111607,
          48410.13103498719,
          46890.62637885831,
          45371.12172272943,
          43851.61706660055,
          42332.11241047167,
          40812.6077543428,
          39293.10309821392,
          37773.59844208504,
          36254.09378595616,
          34734.58912982728,
          33215.0844736984,
          31695.57981756952,
          30176.07516144064,
          28656.57050531176,
          27137.06584918288,
          25617.561193054,
          24098.056536925124,
          22578.551880796243,
          21059.047224667363,
          19539.542568538483,
          18020.037912409607,
          16500.533256280727,
          14981.028600151849,
          13461.523944022969,
          11942.019287894089,
          10422.51463176521
         ],
         "yaxis": "y2"
        },
        {
         "hovertemplate": "%{x}%, £%{y}",
         "mode": "markers+lines",
         "name": "Property Value Yearly Increase (%)",
         "type": "scatter",
         "x": [
          -0.15,
          -0.14,
          -0.13,
          -0.12,
          -0.11,
          -0.1,
          -0.09,
          -0.08,
          -0.07,
          -0.06,
          -0.05,
          -0.04,
          -0.03,
          -0.02,
          -0.01,
          0,
          0.01,
          0.02,
          0.03,
          0.04,
          0.05,
          0.06,
          0.07,
          0.08,
          0.09,
          0.1,
          0.11,
          0.12,
          0.13,
          0.14,
          0.15
         ],
         "xaxis": "x",
         "y": [
          -81532.92576249341,
          -76188.5847424934,
          -70589.80412249341,
          -64727.60490249341,
          -58592.799282493404,
          -52175.98826249341,
          -45467.55924249341,
          -38457.68362249341,
          -31136.31440249341,
          -23493.183782493412,
          -15517.800762493413,
          -7199.448742493413,
          1472.8168775065863,
          10510.171097506585,
          19924.021717506585,
          29726.011737506586,
          39928.02175750658,
          50542.172377506584,
          61580.82659750658,
          73056.59221750658,
          84982.32423750657,
          97371.12725750658,
          110236.35787750658,
          123591.62709750659,
          137450.8027175066,
          151828.01173750657,
          166737.64275750658,
          182194.34837750657,
          198213.04759750655,
          214808.92821750656,
          231997.44923750655
         ],
         "yaxis": "y"
        },
        {
         "hovertemplate": "%{x}%, £%{y}",
         "mode": "markers+lines",
         "name": "Mortgage Interest Rate (%)",
         "type": "scatter",
         "x": [
          0,
          0.01,
          0.02,
          0.03,
          0.04,
          0.05,
          0.06,
          0.07,
          0.08,
          0.09,
          0.1,
          0.11,
          0.12,
          0.13,
          0.14,
          0.15,
          0.16,
          0.17,
          0.18,
          0.19,
          0.2
         ],
         "xaxis": "x",
         "y": [
          99641.84938475103,
          91297.31717334864,
          82742.18968666678,
          73995.58947606028,
          65077.38505203037,
          56007.65431563159,
          46806.17745184954,
          37491.98668638472,
          28082.993048204655,
          18595.701903476784,
          9045.020712963218,
          -555.8448122233953,
          -10195.415581186042,
          -19863.898090368304,
          -29553.09229419595,
          -39256.2632910554,
          -48967.99061345556,
          -58684.00699698694,
          -68401.03619655185,
          -78116.63704156548,
          -87829.05870250943
         ],
         "yaxis": "y"
        },
        {
         "hovertemplate": "£%{x}, £%{y}",
         "mode": "markers+lines",
         "name": "Initial Monthly Rent Price (£)",
         "type": "scatter",
         "x": [
          500,
          600,
          700,
          800,
          900,
          1000,
          1100,
          1200,
          1300,
          1400,
          1500,
          1600,
          1700,
          1800,
          1900,
          2000
         ],
         "xaxis": "x3",
         "y": [
          5608.96831000957,
          12808.780596527,
          20008.59288304443,
          27208.405169561865,
          34408.21745607929,
          41608.02974259672,
          48807.84202911416,
          56007.65431563159,
          63207.46660214902,
          70407.27888866645,
          77607.09117518387,
          84806.90346170131,
          92006.71574821873,
          99206.52803473615,
          106406.3403212536,
          113606.15260777104
         ],
         "yaxis": "y3"
        },
        {
         "hovertemplate": "%{x}%, £%{y}",
         "mode": "markers+lines",
         "name": "Rent Price Yearly Increase (%)",
         "type": "scatter",
         "x": [
          -0.1,
          -0.09,
          -0.08,
          -0.07,
          -0.06,
          -0.05,
          -0.04,
          -0.03,
          -0.02,
          -0.01,
          0,
          0.01,
          0.02,
          0.03,
          0.04,
          0.05,
          0.06,
          0.07,
          0.08,
          0.09,
          0.1,
          0.11,
          0.12,
          0.13,
          0.14,
          0.15
         ],
         "xaxis": "x",
         "y": [
          37147.83407122732,
          38431.100247031776,
          39740.721699276146,
          41077.11493122863,
          42440.69998246785,
          43831.90042888277,
          45251.14338267276,
          46698.859492347576,
          48175.48294272734,
          49681.451454942566,
          51217.206286434135,
          52783.192230953326,
          54379.8576185618,
          56007.65431563159,
          57667.037724845104,
          59358.466785195145,
          61082.403971984895,
          62839.315296827925,
          64629.670307648164,
          66453.94208867996,
          68312.607260468,
          70206.14597986737,
          72135.04194004355,
          74099.7823704724,
          76100.85803694015,
          78138.76324154339
         ],
         "yaxis": "y"
        },
        {
         "hovertemplate": "%{x}%, £%{y}",
         "mode": "markers+lines",
         "name": "Savings Interest Rate (%)",
         "type": "scatter",
         "x": [
          -0.1,
          -0.09,
          -0.08,
          -0.07,
          -0.06,
          -0.05,
          -0.04,
          -0.03,
          -0.02,
          -0.01,
          0,
          0.01,
          0.02,
          0.03,
          0.04,
          0.05,
          0.06,
          0.07,
          0.08,
          0.09,
          0.1,
          0.11,
          0.12,
          0.13,
          0.14,
          0.15,
          0.16,
          0.17,
          0.18,
          0.19,
          0.2
         ],
         "xaxis": "x",
         "y": [
          71176.14070674966,
          70515.44919958462,
          69815.30673251757,
          69073.61675853585,
          68288.17659483594,
          67456.67221656581,
          66576.6728016246,
          65645.62501488689,
          64660.84701968757,
          63619.5222038481,
          62518.692606943936,
          61355.252034906975,
          60125.93884742376,
          58827.32840292816,
          57455.82514529654,
          56007.65431563159,
          54478.853271767046,
          52865.26239733841,
          51162.51558144206,
          49366.030249047,
          47470.99692142616,
          45472.368284938006,
          43364.8477455112,
          41142.87744516406,
          38800.62571582422,
          36331.973944601035,
          33730.50282350053,
          30989.477955360016,
          28101.834786511805,
          25060.162835363953,
          21856.68918470474
         ],
         "yaxis": "y"
        }
       ],
       "layout": {
        "annotations": [
         {
          "showarrow": false,
          "text": "Baseline",
          "x": 1,
          "xanchor": "right",
          "xref": "x domain",
          "y": 56000,
          "yanchor": "bottom",
          "yref": "y"
         },
         {
          "showarrow": false,
          "text": "Baseline",
          "x": 1,
          "xanchor": "right",
          "xref": "x2 domain",
          "y": 56000,
          "yanchor": "bottom",
          "yref": "y2"
         },
         {
          "showarrow": false,
          "text": "Baseline",
          "x": 1,
          "xanchor": "right",
          "xref": "x3 domain",
          "y": 56000,
          "yanchor": "bottom",
          "yref": "y3"
         }
        ],
        "font": {
         "size": 8
        },
        "legend": {
         "orientation": "h",
         "x": 0.5,
         "xanchor": "center",
         "y": -0.2
        },
        "margin": {
         "b": 0,
         "l": 0,
         "r": 0,
         "t": 0
        },
        "shapes": [
         {
          "line": {
           "color": "green",
           "dash": "dash",
           "width": 0.5
          },
          "type": "line",
          "x0": 0,
          "x1": 1,
          "xref": "x domain",
          "y0": 56000,
          "y1": 56000,
          "yref": "y"
         },
         {
          "line": {
           "color": "green",
           "dash": "dash",
           "width": 0.5
          },
          "type": "line",
          "x0": 0,
          "x1": 1,
          "xref": "x2 domain",
          "y0": 56000,
          "y1": 56000,
          "yref": "y2"
         },
         {
          "line": {
           "color": "green",
           "dash": "dash",
           "width": 0.5
          },
          "type": "line",
          "x0": 0,
          "x1": 1,
          "xref": "x3 domain",
          "y0": 56000,
          "y1": 56000,
          "yref": "y3"
         },
         {
          "line": {
           "color": "black",
           "width": 2
          },
          "type": "line",
          "x0": 0,
          "x1": 1,
          "xref": "x domain",
          "y0": 0,
          "y1": 0,
          "yref": "y"
         },
         {
          "line": {
           "color": "black",
           "width": 2
          },
          "type": "line",
          "x0": 0,
          "x1": 1,
          "xref": "x2 domain",
          "y0": 0,
          "y1": 0,
          "yref": "y2"
         },
         {
          "line": {
           "color": "black",
           "width": 2
          },
          "type": "line",
          "x0": 0,
          "x1": 1,
          "xref": "x3 domain",
          "y0": 0,
          "y1": 0,
          "yref": "y3"
         }
        ],
        "template": {
         "data": {
          "bar": [
           {
            "error_x": {
             "color": "#2a3f5f"
            },
            "error_y": {
             "color": "#2a3f5f"
            },
            "marker": {
             "line": {
              "color": "#E5ECF6",
              "width": 0.5
             },
             "pattern": {
              "fillmode": "overlay",
              "size": 10,
              "solidity": 0.2
             }
            },
            "type": "bar"
           }
          ],
          "barpolar": [
           {
            "marker": {
             "line": {
              "color": "#E5ECF6",
              "width": 0.5
             },
             "pattern": {
              "fillmode": "overlay",
              "size": 10,
              "solidity": 0.2
             }
            },
            "type": "barpolar"
           }
          ],
          "carpet": [
           {
            "aaxis": {
             "endlinecolor": "#2a3f5f",
             "gridcolor": "white",
             "linecolor": "white",
             "minorgridcolor": "white",
             "startlinecolor": "#2a3f5f"
            },
            "baxis": {
             "endlinecolor": "#2a3f5f",
             "gridcolor": "white",
             "linecolor": "white",
             "minorgridcolor": "white",
             "startlinecolor": "#2a3f5f"
            },
            "type": "carpet"
           }
          ],
          "choropleth": [
           {
            "colorbar": {
             "outlinewidth": 0,
             "ticks": ""
            },
            "type": "choropleth"
           }
          ],
          "contour": [
           {
            "colorbar": {
             "outlinewidth": 0,
             "ticks": ""
            },
            "colorscale": [
             [
              0,
              "#0d0887"
             ],
             [
              0.1111111111111111,
              "#46039f"
             ],
             [
              0.2222222222222222,
              "#7201a8"
             ],
             [
              0.3333333333333333,
              "#9c179e"
             ],
             [
              0.4444444444444444,
              "#bd3786"
             ],
             [
              0.5555555555555556,
              "#d8576b"
             ],
             [
              0.6666666666666666,
              "#ed7953"
             ],
             [
              0.7777777777777778,
              "#fb9f3a"
             ],
             [
              0.8888888888888888,
              "#fdca26"
             ],
             [
              1,
              "#f0f921"
             ]
            ],
            "type": "contour"
           }
          ],
          "contourcarpet": [
           {
            "colorbar": {
             "outlinewidth": 0,
             "ticks": ""
            },
            "type": "contourcarpet"
           }
          ],
          "heatmap": [
           {
            "colorbar": {
             "outlinewidth": 0,
             "ticks": ""
            },
            "colorscale": [
             [
              0,
              "#0d0887"
             ],
             [
              0.1111111111111111,
              "#46039f"
             ],
             [
              0.2222222222222222,
              "#7201a8"
             ],
             [
              0.3333333333333333,
              "#9c179e"
             ],
             [
              0.4444444444444444,
              "#bd3786"
             ],
             [
              0.5555555555555556,
              "#d8576b"
             ],
             [
              0.6666666666666666,
              "#ed7953"
             ],
             [
              0.7777777777777778,
              "#fb9f3a"
             ],
             [
              0.8888888888888888,
              "#fdca26"
             ],
             [
              1,
              "#f0f921"
             ]
            ],
            "type": "heatmap"
           }
          ],
          "heatmapgl": [
           {
            "colorbar": {
             "outlinewidth": 0,
             "ticks": ""
            },
            "colorscale": [
             [
              0,
              "#0d0887"
             ],
             [
              0.1111111111111111,
              "#46039f"
             ],
             [
              0.2222222222222222,
              "#7201a8"
             ],
             [
              0.3333333333333333,
              "#9c179e"
             ],
             [
              0.4444444444444444,
              "#bd3786"
             ],
             [
              0.5555555555555556,
              "#d8576b"
             ],
             [
              0.6666666666666666,
              "#ed7953"
             ],
             [
              0.7777777777777778,
              "#fb9f3a"
             ],
             [
              0.8888888888888888,
              "#fdca26"
             ],
             [
              1,
              "#f0f921"
             ]
            ],
            "type": "heatmapgl"
           }
          ],
          "histogram": [
           {
            "marker": {
             "pattern": {
              "fillmode": "overlay",
              "size": 10,
              "solidity": 0.2
             }
            },
            "type": "histogram"
           }
          ],
          "histogram2d": [
           {
            "colorbar": {
             "outlinewidth": 0,
             "ticks": ""
            },
            "colorscale": [
             [
              0,
              "#0d0887"
             ],
             [
              0.1111111111111111,
              "#46039f"
             ],
             [
              0.2222222222222222,
              "#7201a8"
             ],
             [
              0.3333333333333333,
              "#9c179e"
             ],
             [
              0.4444444444444444,
              "#bd3786"
             ],
             [
              0.5555555555555556,
              "#d8576b"
             ],
             [
              0.6666666666666666,
              "#ed7953"
             ],
             [
              0.7777777777777778,
              "#fb9f3a"
             ],
             [
              0.8888888888888888,
              "#fdca26"
             ],
             [
              1,
              "#f0f921"
             ]
            ],
            "type": "histogram2d"
           }
          ],
          "histogram2dcontour": [
           {
            "colorbar": {
             "outlinewidth": 0,
             "ticks": ""
            },
            "colorscale": [
             [
              0,
              "#0d0887"
             ],
             [
              0.1111111111111111,
              "#46039f"
             ],
             [
              0.2222222222222222,
              "#7201a8"
             ],
             [
              0.3333333333333333,
              "#9c179e"
             ],
             [
              0.4444444444444444,
              "#bd3786"
             ],
             [
              0.5555555555555556,
              "#d8576b"
             ],
             [
              0.6666666666666666,
              "#ed7953"
             ],
             [
              0.7777777777777778,
              "#fb9f3a"
             ],
             [
              0.8888888888888888,
              "#fdca26"
             ],
             [
              1,
              "#f0f921"
             ]
            ],
            "type": "histogram2dcontour"
           }
          ],
          "mesh3d": [
           {
            "colorbar": {
             "outlinewidth": 0,
             "ticks": ""
            },
            "type": "mesh3d"
           }
          ],
          "parcoords": [
           {
            "line": {
             "colorbar": {
              "outlinewidth": 0,
              "ticks": ""
             }
            },
            "type": "parcoords"
           }
          ],
          "pie": [
           {
            "automargin": true,
            "type": "pie"
           }
          ],
          "scatter": [
           {
            "fillpattern": {
             "fillmode": "overlay",
             "size": 10,
             "solidity": 0.2
            },
            "type": "scatter"
           }
          ],
          "scatter3d": [
           {
            "line": {
             "colorbar": {
              "outlinewidth": 0,
              "ticks": ""
             }
            },
            "marker": {
             "colorbar": {
              "outlinewidth": 0,
              "ticks": ""
             }
            },
            "type": "scatter3d"
           }
          ],
          "scattercarpet": [
           {
            "marker": {
             "colorbar": {
              "outlinewidth": 0,
              "ticks": ""
             }
            },
            "type": "scattercarpet"
           }
          ],
          "scattergeo": [
           {
            "marker": {
             "colorbar": {
              "outlinewidth": 0,
              "ticks": ""
             }
            },
            "type": "scattergeo"
           }
          ],
          "scattergl": [
           {
            "marker": {
             "colorbar": {
              "outlinewidth": 0,
              "ticks": ""
             }
            },
            "type": "scattergl"
           }
          ],
          "scattermapbox": [
           {
            "marker": {
             "colorbar": {
              "outlinewidth": 0,
              "ticks": ""
             }
            },
            "type": "scattermapbox"
           }
          ],
          "scatterpolar": [
           {
            "marker": {
             "colorbar": {
              "outlinewidth": 0,
              "ticks": ""
             }
            },
            "type": "scatterpolar"
           }
          ],
          "scatterpolargl": [
           {
            "marker": {
             "colorbar": {
              "outlinewidth": 0,
              "ticks": ""
             }
            },
            "type": "scatterpolargl"
           }
          ],
          "scatterternary": [
           {
            "marker": {
             "colorbar": {
              "outlinewidth": 0,
              "ticks": ""
             }
            },
            "type": "scatterternary"
           }
          ],
          "surface": [
           {
            "colorbar": {
             "outlinewidth": 0,
             "ticks": ""
            },
            "colorscale": [
             [
              0,
              "#0d0887"
             ],
             [
              0.1111111111111111,
              "#46039f"
             ],
             [
              0.2222222222222222,
              "#7201a8"
             ],
             [
              0.3333333333333333,
              "#9c179e"
             ],
             [
              0.4444444444444444,
              "#bd3786"
             ],
             [
              0.5555555555555556,
              "#d8576b"
             ],
             [
              0.6666666666666666,
              "#ed7953"
             ],
             [
              0.7777777777777778,
              "#fb9f3a"
             ],
             [
              0.8888888888888888,
              "#fdca26"
             ],
             [
              1,
              "#f0f921"
             ]
            ],
            "type": "surface"
           }
          ],
          "table": [
           {
            "cells": {
             "fill": {
              "color": "#EBF0F8"
             },
             "line": {
              "color": "white"
             }
            },
            "header": {
             "fill": {
              "color": "#C8D4E3"
             },
             "line": {
              "color": "white"
             }
            },
            "type": "table"
           }
          ]
         },
         "layout": {
          "annotationdefaults": {
           "arrowcolor": "#2a3f5f",
           "arrowhead": 0,
           "arrowwidth": 1
          },
          "autotypenumbers": "strict",
          "coloraxis": {
           "colorbar": {
            "outlinewidth": 0,
            "ticks": ""
           }
          },
          "colorscale": {
           "diverging": [
            [
             0,
             "#8e0152"
            ],
            [
             0.1,
             "#c51b7d"
            ],
            [
             0.2,
             "#de77ae"
            ],
            [
             0.3,
             "#f1b6da"
            ],
            [
             0.4,
             "#fde0ef"
            ],
            [
             0.5,
             "#f7f7f7"
            ],
            [
             0.6,
             "#e6f5d0"
            ],
            [
             0.7,
             "#b8e186"
            ],
            [
             0.8,
             "#7fbc41"
            ],
            [
             0.9,
             "#4d9221"
            ],
            [
             1,
             "#276419"
            ]
           ],
           "sequential": [
            [
             0,
             "#0d0887"
            ],
            [
             0.1111111111111111,
             "#46039f"
            ],
            [
             0.2222222222222222,
             "#7201a8"
            ],
            [
             0.3333333333333333,
             "#9c179e"
            ],
            [
             0.4444444444444444,
             "#bd3786"
            ],
            [
             0.5555555555555556,
             "#d8576b"
            ],
            [
             0.6666666666666666,
             "#ed7953"
            ],
            [
             0.7777777777777778,
             "#fb9f3a"
            ],
            [
             0.8888888888888888,
             "#fdca26"
            ],
            [
             1,
             "#f0f921"
            ]
           ],
           "sequentialminus": [
            [
             0,
             "#0d0887"
            ],
            [
             0.1111111111111111,
             "#46039f"
            ],
            [
             0.2222222222222222,
             "#7201a8"
            ],
            [
             0.3333333333333333,
             "#9c179e"
            ],
            [
             0.4444444444444444,
             "#bd3786"
            ],
            [
             0.5555555555555556,
             "#d8576b"
            ],
            [
             0.6666666666666666,
             "#ed7953"
            ],
            [
             0.7777777777777778,
             "#fb9f3a"
            ],
            [
             0.8888888888888888,
             "#fdca26"
            ],
            [
             1,
             "#f0f921"
            ]
           ]
          },
          "colorway": [
           "#636efa",
           "#EF553B",
           "#00cc96",
           "#ab63fa",
           "#FFA15A",
           "#19d3f3",
           "#FF6692",
           "#B6E880",
           "#FF97FF",
           "#FECB52"
          ],
          "font": {
           "color": "#2a3f5f"
          },
          "geo": {
           "bgcolor": "white",
           "lakecolor": "white",
           "landcolor": "#E5ECF6",
           "showlakes": true,
           "showland": true,
           "subunitcolor": "white"
          },
          "hoverlabel": {
           "align": "left"
          },
          "hovermode": "closest",
          "mapbox": {
           "style": "light"
          },
          "paper_bgcolor": "white",
          "plot_bgcolor": "#E5ECF6",
          "polar": {
           "angularaxis": {
            "gridcolor": "white",
            "linecolor": "white",
            "ticks": ""
           },
           "bgcolor": "#E5ECF6",
           "radialaxis": {
            "gridcolor": "white",
            "linecolor": "white",
            "ticks": ""
           }
          },
          "scene": {
           "xaxis": {
            "backgroundcolor": "#E5ECF6",
            "gridcolor": "white",
            "gridwidth": 2,
            "linecolor": "white",
            "showbackground": true,
            "ticks": "",
            "zerolinecolor": "white"
           },
           "yaxis": {
            "backgroundcolor": "#E5ECF6",
            "gridcolor": "white",
            "gridwidth": 2,
            "linecolor": "white",
            "showbackground": true,
            "ticks": "",
            "zerolinecolor": "white"
           },
           "zaxis": {
            "backgroundcolor": "#E5ECF6",
            "gridcolor": "white",
            "gridwidth": 2,
            "linecolor": "white",
            "showbackground": true,
            "ticks": "",
            "zerolinecolor": "white"
           }
          },
          "shapedefaults": {
           "line": {
            "color": "#2a3f5f"
           }
          },
          "ternary": {
           "aaxis": {
            "gridcolor": "white",
            "linecolor": "white",
            "ticks": ""
           },
           "baxis": {
            "gridcolor": "white",
            "linecolor": "white",
            "ticks": ""
           },
           "bgcolor": "#E5ECF6",
           "caxis": {
            "gridcolor": "white",
            "linecolor": "white",
            "ticks": ""
           }
          },
          "title": {
           "x": 0.05
          },
          "xaxis": {
           "automargin": true,
           "gridcolor": "white",
           "linecolor": "white",
           "ticks": "",
           "title": {
            "standoff": 15
           },
           "zerolinecolor": "white",
           "zerolinewidth": 2
          },
          "yaxis": {
           "automargin": true,
           "gridcolor": "white",
           "linecolor": "white",
           "ticks": "",
           "title": {
            "standoff": 15
           },
           "zerolinecolor": "white",
           "zerolinewidth": 2
          }
         }
        },
        "xaxis": {
         "anchor": "y",
         "domain": [
          0,
          0.32666666666666666
         ],
         "title": {
          "text": "Value (%)"
         }
        },
        "xaxis2": {
         "anchor": "y2",
         "domain": [
          0.33666666666666667,
          0.6633333333333333
         ],
         "title": {
          "text": "Initial Property Value (£)"
         }
        },
        "xaxis3": {
         "anchor": "y3",
         "domain": [
          0.6733333333333333,
          1
         ],
         "title": {
          "text": "Initial Monthly Rent Price (£)"
         }
        },
        "yaxis": {
         "anchor": "x",
         "domain": [
          0,
          1
         ],
         "range": [
          -100000,
          250000
         ],
         "title": {
          "text": "Delta (£)"
         }
        },
        "yaxis2": {
         "anchor": "x2",
         "domain": [
          0,
          1
         ],
         "range": [
          -100000,
          250000
         ],
         "showticklabels": false
        },
        "yaxis3": {
         "anchor": "x3",
         "domain": [
          0,
          1
         ],
         "range": [
          -100000,
          250000
         ],
         "showticklabels": false
        }
       }
      }
     },
     "metadata": {},
     "output_type": "display_data"
    },
    {
     "data": {
      "text/plain": [
       "'Presentation/plots/1d-sensitivity.html'"
      ]
     },
     "execution_count": 33,
     "metadata": {},
     "output_type": "execute_result"
    }
   ],
   "source": [
    "fig = make_subplots(cols=3, horizontal_spacing=0.01)\n",
    "for name, units, col in vars:\n",
    "    fig.add_trace(scatter(name, units), row=1, col=col)\n",
    "fig.add_hline(\n",
    "    56000,\n",
    "    line_color=\"green\",\n",
    "    line_dash=\"dash\",\n",
    "    line_width=0.5,\n",
    "    annotation_text=\"Baseline\",\n",
    ")\n",
    "fig.add_hline(0, line_color=\"black\", line_width=2)\n",
    "y_range = [-100_000, 250_000]\n",
    "fig.update_layout(\n",
    "    xaxis1={\"title_text\": \"Value (%)\"},\n",
    "    xaxis2={\"title_text\": get_axis_title(\"initialPropertyValue\")},\n",
    "    xaxis3={\"title_text\": get_axis_title(\"initialMonthlyRentPrice\")},\n",
    "    yaxis1={\"range\": y_range, \"title_text\": \"Delta (£)\"},\n",
    "    yaxis2={\"range\": y_range, \"showticklabels\": False},\n",
    "    yaxis3={\"range\": y_range, \"showticklabels\": False},\n",
    "    legend={\"xanchor\": \"center\", \"x\": 0.5, \"y\": -0.2, \"orientation\": \"h\"},\n",
    "    font={\"size\": 8},\n",
    "    margin={\"l\": 0, \"r\": 0, \"t\": 0, \"b\": 0},\n",
    ")\n",
    "fig.show()\n",
    "\n",
    "offline.plot(fig, filename='Presentation/plots/1d-sensitivity.html', auto_open=False)\n"
   ]
  },
  {
   "cell_type": "code",
   "execution_count": 36,
   "id": "c4e4c09b",
   "metadata": {},
   "outputs": [
    {
     "data": {
      "application/vnd.plotly.v1+json": {
       "config": {
        "plotlyServerURL": "https://plot.ly"
       },
       "data": [
        {
         "hovertemplate": "£%{x}, £%{y}",
         "mode": "markers+lines",
         "name": "Initial Property Value (£)",
         "type": "scatter",
         "x": [
          100000,
          110000,
          120000,
          130000,
          140000,
          150000,
          160000,
          170000,
          180000,
          190000,
          200000,
          210000,
          220000,
          230000,
          240000,
          250000,
          260000,
          270000,
          280000,
          290000,
          300000,
          310000,
          320000,
          330000,
          340000,
          350000,
          360000,
          370000,
          380000,
          390000,
          400000,
          410000,
          420000,
          430000,
          440000,
          450000,
          460000,
          470000,
          480000,
          490000,
          500000
         ],
         "xaxis": "x2",
         "y": [
          -1519.504656128891,
          -1519.5046561288837,
          -1519.5046561288764,
          -1519.5046561288764,
          -1519.5046561288764,
          -1519.50465612888,
          -1519.50465612888,
          -1519.50465612888,
          -1519.5046561288764,
          -1519.5046561288764,
          -1519.50465612888,
          -1519.50465612888,
          -1519.50465612888,
          -1519.50465612888,
          -1519.50465612888,
          -1519.50465612888,
          -1519.50465612888,
          -1519.50465612888,
          -1519.50465612888,
          -1519.5046561288764,
          -1519.5046561288764,
          -1519.50465612888,
          -1519.50465612888,
          -1519.5046561288764,
          -1519.50465612888,
          -1519.5046561288818,
          -1519.50465612888,
          -1519.50465612888,
          -1519.50465612888,
          -1519.50465612888,
          -1519.5046561288782,
          -1519.5046561288782,
          -1519.50465612888,
          -1519.50465612888,
          -1519.5046561288782,
          -1519.5046561288782,
          -1519.504656128879,
          -1519.504656128879,
          -1519.50465612888,
          -1519.504656128879,
          -1519.5046561288782
         ],
         "yaxis": "y2"
        },
        {
         "hovertemplate": "%{x}%, £%{y}",
         "mode": "markers+lines",
         "name": "Property Value Yearly Increase (%)",
         "type": "scatter",
         "x": [
          -0.15,
          -0.14,
          -0.13,
          -0.12,
          -0.11,
          -0.1,
          -0.09,
          -0.08,
          -0.07,
          -0.06,
          -0.05,
          -0.04,
          -0.03,
          -0.02,
          -0.01,
          0,
          0.01,
          0.02,
          0.03,
          0.04,
          0.05,
          0.06,
          0.07,
          0.08,
          0.09,
          0.1,
          0.11,
          0.12,
          0.13,
          0.14,
          0.15
         ],
         "xaxis": "x",
         "y": [
          5344.341020000007,
          5471.560819999999,
          5730.489919999996,
          5998.502420000004,
          6275.80832,
          6562.6200199999985,
          6859.152320000001,
          7165.622419999998,
          7482.249919999998,
          7809.25682,
          8146.86752,
          8495.30882,
          8854.80992,
          9225.60242,
          9607.920320000001,
          10002.00002,
          10408.08032,
          10826.402419999999,
          11257.209919999998,
          11700.748819999997,
          12157.267520000001,
          12627.016820000004,
          13110.249920000002,
          13607.222420000006,
          14118.192319999995,
          14643.42001999999,
          15183.168319999997,
          15737.702419999987,
          16307.289919999996,
          16892.20082,
          17188.521019999986
         ],
         "yaxis": "y"
        },
        {
         "hovertemplate": "%{x}%, £%{y}",
         "mode": "markers+lines",
         "name": "Mortgage Interest Rate (%)",
         "type": "scatter",
         "x": [
          0,
          0.01,
          0.02,
          0.03,
          0.04,
          0.05,
          0.06,
          0.07,
          0.08,
          0.09,
          0.1,
          0.11,
          0.12,
          0.13,
          0.14,
          0.15,
          0.16,
          0.17,
          0.18,
          0.19,
          0.2
         ],
         "xaxis": "x",
         "y": [
          -8344.532211402387,
          -8449.829849042122,
          -8650.863848644178,
          -8832.402317318207,
          -8993.967580214347,
          -9135.603800090415,
          -9257.833814623435,
          -9361.592201822441,
          -9448.142391453968,
          -9518.986167620718,
          -9575.77335785009,
          -9620.218147074629,
          -9654.026639072454,
          -9678.838356504955,
          -9696.182600343549,
          -9707.449159629803,
          -9713.871852965767,
          -9716.522791548148,
          -9716.315022289273,
          -9714.011252978788,
          -9712.421660943946
         ],
         "yaxis": "y"
        },
        {
         "hovertemplate": "£%{x}, £%{y}",
         "mode": "markers+lines",
         "name": "Initial Monthly Rent Price (£)",
         "type": "scatter",
         "x": [
          500,
          600,
          700,
          800,
          900,
          1000,
          1100,
          1200,
          1300,
          1400,
          1500,
          1600,
          1700,
          1800,
          1900,
          2000
         ],
         "xaxis": "x3",
         "y": [
          7199.81228651743,
          7199.812286517431,
          7199.812286517433,
          7199.81228651743,
          7199.812286517428,
          7199.812286517434,
          7199.812286517434,
          7199.81228651743,
          7199.81228651743,
          7199.812286517426,
          7199.81228651743,
          7199.81228651743,
          7199.812286517423,
          7199.812286517437,
          7199.812286517445,
          7199.812286517437
         ],
         "yaxis": "y3"
        },
        {
         "hovertemplate": "%{x}%, £%{y}",
         "mode": "markers+lines",
         "name": "Rent Price Yearly Increase (%)",
         "type": "scatter",
         "x": [
          -0.1,
          -0.09,
          -0.08,
          -0.07,
          -0.06,
          -0.05,
          -0.04,
          -0.03,
          -0.02,
          -0.01,
          0,
          0.01,
          0.02,
          0.03,
          0.04,
          0.05,
          0.06,
          0.07,
          0.08,
          0.09,
          0.1,
          0.11,
          0.12,
          0.13,
          0.14,
          0.15
         ],
         "xaxis": "x",
         "y": [
          1283.266175804456,
          1296.4438140244129,
          1323.0073420984263,
          1349.9891415958518,
          1377.392748827071,
          1405.2217001024546,
          1433.4795317324024,
          1462.1697800272923,
          1491.295981297495,
          1520.8616718533958,
          1550.87038800538,
          1581.3256660638326,
          1612.2310423391318,
          1643.5900531416519,
          1675.406234781778,
          1707.6831235698955,
          1740.4242558163896,
          1773.6331678316346,
          1807.3133959260194,
          1841.4684764099147,
          1876.1019455937058,
          1911.2173397877777,
          1946.8181953025123,
          1982.9080484482984,
          2019.4904355354956,
          2037.9052046032448
         ],
         "yaxis": "y"
        },
        {
         "hovertemplate": "%{x}%, £%{y}",
         "mode": "markers+lines",
         "name": "Savings Interest Rate (%)",
         "type": "scatter",
         "x": [
          -0.1,
          -0.09,
          -0.08,
          -0.07,
          -0.06,
          -0.05,
          -0.04,
          -0.03,
          -0.02,
          -0.01,
          0,
          0.01,
          0.02,
          0.03,
          0.04,
          0.05,
          0.06,
          0.07,
          0.08,
          0.09,
          0.1,
          0.11,
          0.12,
          0.13,
          0.14,
          0.15,
          0.16,
          0.17,
          0.18,
          0.19,
          0.2
         ],
         "xaxis": "x",
         "y": [
          -660.6915071650437,
          -680.4169871160484,
          -720.9162205243847,
          -763.5650688408132,
          -808.4722709850175,
          -855.7518966056668,
          -905.523600839464,
          -957.9128909685169,
          -1013.0514055193926,
          -1071.0772063718177,
          -1132.135084470563,
          -1196.3768797600897,
          -1263.961815989409,
          -1335.0568510636076,
          -1409.8370436482837,
          -1488.4859367647477,
          -1571.1959591465893,
          -1658.168845162494,
          -1749.616074145706,
          -1845.7593300079498,
          -1946.8309820544964,
          -2053.074587957479,
          -2164.7454198869746,
          -2282.111014843489,
          -2405.4517502815106,
          -2535.061446161846,
          -2671.2479946205094,
          -2814.3340184943627,
          -2964.6575599980315,
          -3122.572800903532,
          -3203.4736506592126
         ],
         "yaxis": "y"
        }
       ],
       "layout": {
        "font": {
         "size": 8
        },
        "legend": {
         "orientation": "h",
         "x": 0.5,
         "xanchor": "center",
         "y": -0.2
        },
        "margin": {
         "b": 0,
         "l": 0,
         "r": 0,
         "t": 0
        },
        "template": {
         "data": {
          "bar": [
           {
            "error_x": {
             "color": "#2a3f5f"
            },
            "error_y": {
             "color": "#2a3f5f"
            },
            "marker": {
             "line": {
              "color": "#E5ECF6",
              "width": 0.5
             },
             "pattern": {
              "fillmode": "overlay",
              "size": 10,
              "solidity": 0.2
             }
            },
            "type": "bar"
           }
          ],
          "barpolar": [
           {
            "marker": {
             "line": {
              "color": "#E5ECF6",
              "width": 0.5
             },
             "pattern": {
              "fillmode": "overlay",
              "size": 10,
              "solidity": 0.2
             }
            },
            "type": "barpolar"
           }
          ],
          "carpet": [
           {
            "aaxis": {
             "endlinecolor": "#2a3f5f",
             "gridcolor": "white",
             "linecolor": "white",
             "minorgridcolor": "white",
             "startlinecolor": "#2a3f5f"
            },
            "baxis": {
             "endlinecolor": "#2a3f5f",
             "gridcolor": "white",
             "linecolor": "white",
             "minorgridcolor": "white",
             "startlinecolor": "#2a3f5f"
            },
            "type": "carpet"
           }
          ],
          "choropleth": [
           {
            "colorbar": {
             "outlinewidth": 0,
             "ticks": ""
            },
            "type": "choropleth"
           }
          ],
          "contour": [
           {
            "colorbar": {
             "outlinewidth": 0,
             "ticks": ""
            },
            "colorscale": [
             [
              0,
              "#0d0887"
             ],
             [
              0.1111111111111111,
              "#46039f"
             ],
             [
              0.2222222222222222,
              "#7201a8"
             ],
             [
              0.3333333333333333,
              "#9c179e"
             ],
             [
              0.4444444444444444,
              "#bd3786"
             ],
             [
              0.5555555555555556,
              "#d8576b"
             ],
             [
              0.6666666666666666,
              "#ed7953"
             ],
             [
              0.7777777777777778,
              "#fb9f3a"
             ],
             [
              0.8888888888888888,
              "#fdca26"
             ],
             [
              1,
              "#f0f921"
             ]
            ],
            "type": "contour"
           }
          ],
          "contourcarpet": [
           {
            "colorbar": {
             "outlinewidth": 0,
             "ticks": ""
            },
            "type": "contourcarpet"
           }
          ],
          "heatmap": [
           {
            "colorbar": {
             "outlinewidth": 0,
             "ticks": ""
            },
            "colorscale": [
             [
              0,
              "#0d0887"
             ],
             [
              0.1111111111111111,
              "#46039f"
             ],
             [
              0.2222222222222222,
              "#7201a8"
             ],
             [
              0.3333333333333333,
              "#9c179e"
             ],
             [
              0.4444444444444444,
              "#bd3786"
             ],
             [
              0.5555555555555556,
              "#d8576b"
             ],
             [
              0.6666666666666666,
              "#ed7953"
             ],
             [
              0.7777777777777778,
              "#fb9f3a"
             ],
             [
              0.8888888888888888,
              "#fdca26"
             ],
             [
              1,
              "#f0f921"
             ]
            ],
            "type": "heatmap"
           }
          ],
          "heatmapgl": [
           {
            "colorbar": {
             "outlinewidth": 0,
             "ticks": ""
            },
            "colorscale": [
             [
              0,
              "#0d0887"
             ],
             [
              0.1111111111111111,
              "#46039f"
             ],
             [
              0.2222222222222222,
              "#7201a8"
             ],
             [
              0.3333333333333333,
              "#9c179e"
             ],
             [
              0.4444444444444444,
              "#bd3786"
             ],
             [
              0.5555555555555556,
              "#d8576b"
             ],
             [
              0.6666666666666666,
              "#ed7953"
             ],
             [
              0.7777777777777778,
              "#fb9f3a"
             ],
             [
              0.8888888888888888,
              "#fdca26"
             ],
             [
              1,
              "#f0f921"
             ]
            ],
            "type": "heatmapgl"
           }
          ],
          "histogram": [
           {
            "marker": {
             "pattern": {
              "fillmode": "overlay",
              "size": 10,
              "solidity": 0.2
             }
            },
            "type": "histogram"
           }
          ],
          "histogram2d": [
           {
            "colorbar": {
             "outlinewidth": 0,
             "ticks": ""
            },
            "colorscale": [
             [
              0,
              "#0d0887"
             ],
             [
              0.1111111111111111,
              "#46039f"
             ],
             [
              0.2222222222222222,
              "#7201a8"
             ],
             [
              0.3333333333333333,
              "#9c179e"
             ],
             [
              0.4444444444444444,
              "#bd3786"
             ],
             [
              0.5555555555555556,
              "#d8576b"
             ],
             [
              0.6666666666666666,
              "#ed7953"
             ],
             [
              0.7777777777777778,
              "#fb9f3a"
             ],
             [
              0.8888888888888888,
              "#fdca26"
             ],
             [
              1,
              "#f0f921"
             ]
            ],
            "type": "histogram2d"
           }
          ],
          "histogram2dcontour": [
           {
            "colorbar": {
             "outlinewidth": 0,
             "ticks": ""
            },
            "colorscale": [
             [
              0,
              "#0d0887"
             ],
             [
              0.1111111111111111,
              "#46039f"
             ],
             [
              0.2222222222222222,
              "#7201a8"
             ],
             [
              0.3333333333333333,
              "#9c179e"
             ],
             [
              0.4444444444444444,
              "#bd3786"
             ],
             [
              0.5555555555555556,
              "#d8576b"
             ],
             [
              0.6666666666666666,
              "#ed7953"
             ],
             [
              0.7777777777777778,
              "#fb9f3a"
             ],
             [
              0.8888888888888888,
              "#fdca26"
             ],
             [
              1,
              "#f0f921"
             ]
            ],
            "type": "histogram2dcontour"
           }
          ],
          "mesh3d": [
           {
            "colorbar": {
             "outlinewidth": 0,
             "ticks": ""
            },
            "type": "mesh3d"
           }
          ],
          "parcoords": [
           {
            "line": {
             "colorbar": {
              "outlinewidth": 0,
              "ticks": ""
             }
            },
            "type": "parcoords"
           }
          ],
          "pie": [
           {
            "automargin": true,
            "type": "pie"
           }
          ],
          "scatter": [
           {
            "fillpattern": {
             "fillmode": "overlay",
             "size": 10,
             "solidity": 0.2
            },
            "type": "scatter"
           }
          ],
          "scatter3d": [
           {
            "line": {
             "colorbar": {
              "outlinewidth": 0,
              "ticks": ""
             }
            },
            "marker": {
             "colorbar": {
              "outlinewidth": 0,
              "ticks": ""
             }
            },
            "type": "scatter3d"
           }
          ],
          "scattercarpet": [
           {
            "marker": {
             "colorbar": {
              "outlinewidth": 0,
              "ticks": ""
             }
            },
            "type": "scattercarpet"
           }
          ],
          "scattergeo": [
           {
            "marker": {
             "colorbar": {
              "outlinewidth": 0,
              "ticks": ""
             }
            },
            "type": "scattergeo"
           }
          ],
          "scattergl": [
           {
            "marker": {
             "colorbar": {
              "outlinewidth": 0,
              "ticks": ""
             }
            },
            "type": "scattergl"
           }
          ],
          "scattermapbox": [
           {
            "marker": {
             "colorbar": {
              "outlinewidth": 0,
              "ticks": ""
             }
            },
            "type": "scattermapbox"
           }
          ],
          "scatterpolar": [
           {
            "marker": {
             "colorbar": {
              "outlinewidth": 0,
              "ticks": ""
             }
            },
            "type": "scatterpolar"
           }
          ],
          "scatterpolargl": [
           {
            "marker": {
             "colorbar": {
              "outlinewidth": 0,
              "ticks": ""
             }
            },
            "type": "scatterpolargl"
           }
          ],
          "scatterternary": [
           {
            "marker": {
             "colorbar": {
              "outlinewidth": 0,
              "ticks": ""
             }
            },
            "type": "scatterternary"
           }
          ],
          "surface": [
           {
            "colorbar": {
             "outlinewidth": 0,
             "ticks": ""
            },
            "colorscale": [
             [
              0,
              "#0d0887"
             ],
             [
              0.1111111111111111,
              "#46039f"
             ],
             [
              0.2222222222222222,
              "#7201a8"
             ],
             [
              0.3333333333333333,
              "#9c179e"
             ],
             [
              0.4444444444444444,
              "#bd3786"
             ],
             [
              0.5555555555555556,
              "#d8576b"
             ],
             [
              0.6666666666666666,
              "#ed7953"
             ],
             [
              0.7777777777777778,
              "#fb9f3a"
             ],
             [
              0.8888888888888888,
              "#fdca26"
             ],
             [
              1,
              "#f0f921"
             ]
            ],
            "type": "surface"
           }
          ],
          "table": [
           {
            "cells": {
             "fill": {
              "color": "#EBF0F8"
             },
             "line": {
              "color": "white"
             }
            },
            "header": {
             "fill": {
              "color": "#C8D4E3"
             },
             "line": {
              "color": "white"
             }
            },
            "type": "table"
           }
          ]
         },
         "layout": {
          "annotationdefaults": {
           "arrowcolor": "#2a3f5f",
           "arrowhead": 0,
           "arrowwidth": 1
          },
          "autotypenumbers": "strict",
          "coloraxis": {
           "colorbar": {
            "outlinewidth": 0,
            "ticks": ""
           }
          },
          "colorscale": {
           "diverging": [
            [
             0,
             "#8e0152"
            ],
            [
             0.1,
             "#c51b7d"
            ],
            [
             0.2,
             "#de77ae"
            ],
            [
             0.3,
             "#f1b6da"
            ],
            [
             0.4,
             "#fde0ef"
            ],
            [
             0.5,
             "#f7f7f7"
            ],
            [
             0.6,
             "#e6f5d0"
            ],
            [
             0.7,
             "#b8e186"
            ],
            [
             0.8,
             "#7fbc41"
            ],
            [
             0.9,
             "#4d9221"
            ],
            [
             1,
             "#276419"
            ]
           ],
           "sequential": [
            [
             0,
             "#0d0887"
            ],
            [
             0.1111111111111111,
             "#46039f"
            ],
            [
             0.2222222222222222,
             "#7201a8"
            ],
            [
             0.3333333333333333,
             "#9c179e"
            ],
            [
             0.4444444444444444,
             "#bd3786"
            ],
            [
             0.5555555555555556,
             "#d8576b"
            ],
            [
             0.6666666666666666,
             "#ed7953"
            ],
            [
             0.7777777777777778,
             "#fb9f3a"
            ],
            [
             0.8888888888888888,
             "#fdca26"
            ],
            [
             1,
             "#f0f921"
            ]
           ],
           "sequentialminus": [
            [
             0,
             "#0d0887"
            ],
            [
             0.1111111111111111,
             "#46039f"
            ],
            [
             0.2222222222222222,
             "#7201a8"
            ],
            [
             0.3333333333333333,
             "#9c179e"
            ],
            [
             0.4444444444444444,
             "#bd3786"
            ],
            [
             0.5555555555555556,
             "#d8576b"
            ],
            [
             0.6666666666666666,
             "#ed7953"
            ],
            [
             0.7777777777777778,
             "#fb9f3a"
            ],
            [
             0.8888888888888888,
             "#fdca26"
            ],
            [
             1,
             "#f0f921"
            ]
           ]
          },
          "colorway": [
           "#636efa",
           "#EF553B",
           "#00cc96",
           "#ab63fa",
           "#FFA15A",
           "#19d3f3",
           "#FF6692",
           "#B6E880",
           "#FF97FF",
           "#FECB52"
          ],
          "font": {
           "color": "#2a3f5f"
          },
          "geo": {
           "bgcolor": "white",
           "lakecolor": "white",
           "landcolor": "#E5ECF6",
           "showlakes": true,
           "showland": true,
           "subunitcolor": "white"
          },
          "hoverlabel": {
           "align": "left"
          },
          "hovermode": "closest",
          "mapbox": {
           "style": "light"
          },
          "paper_bgcolor": "white",
          "plot_bgcolor": "#E5ECF6",
          "polar": {
           "angularaxis": {
            "gridcolor": "white",
            "linecolor": "white",
            "ticks": ""
           },
           "bgcolor": "#E5ECF6",
           "radialaxis": {
            "gridcolor": "white",
            "linecolor": "white",
            "ticks": ""
           }
          },
          "scene": {
           "xaxis": {
            "backgroundcolor": "#E5ECF6",
            "gridcolor": "white",
            "gridwidth": 2,
            "linecolor": "white",
            "showbackground": true,
            "ticks": "",
            "zerolinecolor": "white"
           },
           "yaxis": {
            "backgroundcolor": "#E5ECF6",
            "gridcolor": "white",
            "gridwidth": 2,
            "linecolor": "white",
            "showbackground": true,
            "ticks": "",
            "zerolinecolor": "white"
           },
           "zaxis": {
            "backgroundcolor": "#E5ECF6",
            "gridcolor": "white",
            "gridwidth": 2,
            "linecolor": "white",
            "showbackground": true,
            "ticks": "",
            "zerolinecolor": "white"
           }
          },
          "shapedefaults": {
           "line": {
            "color": "#2a3f5f"
           }
          },
          "ternary": {
           "aaxis": {
            "gridcolor": "white",
            "linecolor": "white",
            "ticks": ""
           },
           "baxis": {
            "gridcolor": "white",
            "linecolor": "white",
            "ticks": ""
           },
           "bgcolor": "#E5ECF6",
           "caxis": {
            "gridcolor": "white",
            "linecolor": "white",
            "ticks": ""
           }
          },
          "title": {
           "x": 0.05
          },
          "xaxis": {
           "automargin": true,
           "gridcolor": "white",
           "linecolor": "white",
           "ticks": "",
           "title": {
            "standoff": 15
           },
           "zerolinecolor": "white",
           "zerolinewidth": 2
          },
          "yaxis": {
           "automargin": true,
           "gridcolor": "white",
           "linecolor": "white",
           "ticks": "",
           "title": {
            "standoff": 15
           },
           "zerolinecolor": "white",
           "zerolinewidth": 2
          }
         }
        },
        "xaxis": {
         "anchor": "y",
         "domain": [
          0,
          0.32666666666666666
         ],
         "title": {
          "text": "Value (%)"
         }
        },
        "xaxis2": {
         "anchor": "y2",
         "domain": [
          0.33666666666666667,
          0.6633333333333333
         ],
         "title": {
          "text": "Initial Property Value (£)"
         }
        },
        "xaxis3": {
         "anchor": "y3",
         "domain": [
          0.6733333333333333,
          1
         ],
         "title": {
          "text": "Initial Monthly Rent Price (£)"
         }
        },
        "yaxis": {
         "anchor": "x",
         "domain": [
          0,
          1
         ],
         "range": [
          -20000,
          20000
         ],
         "title": {
          "text": "Slope"
         }
        },
        "yaxis2": {
         "anchor": "x2",
         "domain": [
          0,
          1
         ],
         "range": [
          -20000,
          20000
         ],
         "showticklabels": false
        },
        "yaxis3": {
         "anchor": "x3",
         "domain": [
          0,
          1
         ],
         "range": [
          -20000,
          20000
         ],
         "showticklabels": false
        }
       }
      }
     },
     "metadata": {},
     "output_type": "display_data"
    },
    {
     "data": {
      "text/plain": [
       "'Presentation/plots/1d-sensitivity-slope.html'"
      ]
     },
     "execution_count": 36,
     "metadata": {},
     "output_type": "execute_result"
    }
   ],
   "source": [
    "fig = make_subplots(cols=3, horizontal_spacing=0.01)\n",
    "for name, units, col in vars:\n",
    "    fig.add_trace(scatter(name, units, slope=True), row=1, col=col)\n",
    "y_range = [-20_000, 20_000]\n",
    "fig.update_layout(\n",
    "    xaxis1={\"title_text\": \"Value (%)\"},\n",
    "    xaxis2={\"title_text\": get_axis_title(\"initialPropertyValue\")},\n",
    "    xaxis3={\"title_text\": get_axis_title(\"initialMonthlyRentPrice\")},\n",
    "    yaxis1={\"range\": y_range, \"title_text\": \"Slope\"},\n",
    "    yaxis2={\"range\": y_range, \"showticklabels\": False},\n",
    "    yaxis3={\"range\": y_range, \"showticklabels\": False},\n",
    "    legend={\"xanchor\": \"center\", \"x\": 0.5, \"y\": -0.2, \"orientation\": \"h\"},\n",
    "    font={\"size\": 8},\n",
    "    margin={\"l\": 0, \"r\": 0, \"t\": 0, \"b\": 0},\n",
    ") \n",
    "fig.show()\n",
    "offline.plot(fig, filename='Presentation/plots/1d-sensitivity-slope.html', auto_open=False)"
   ]
  }
 ],
 "metadata": {
  "kernelspec": {
   "display_name": "Python 3 (ipykernel)",
   "language": "python",
   "name": "python3"
  },
  "language_info": {
   "codemirror_mode": {
    "name": "ipython",
    "version": 3
   },
   "file_extension": ".py",
   "mimetype": "text/x-python",
   "name": "python",
   "nbconvert_exporter": "python",
   "pygments_lexer": "ipython3",
   "version": "3.11.5"
  }
 },
 "nbformat": 4,
 "nbformat_minor": 5
}
