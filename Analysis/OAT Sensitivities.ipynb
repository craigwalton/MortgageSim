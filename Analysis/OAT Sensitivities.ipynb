{
 "cells": [
  {
   "cell_type": "code",
   "execution_count": null,
   "id": "5118c465",
   "metadata": {},
   "outputs": [],
   "source": [
    "import pandas as pd\n",
    "import plotly.graph_objects as go\n",
    "import numpy as np\n",
    "from inflection import titleize"
   ]
  },
  {
   "cell_type": "markdown",
   "id": "913712dd",
   "metadata": {},
   "source": [
    "This notebook compares sensitivities of individual variables, changing one-at-a-time (OAT). The rest of the variables remain as per baseline.\n",
    "\n",
    "A positive `delta` indicates that buying would result in a financial gain over renting after 5 years."
   ]
  },
  {
   "cell_type": "code",
   "execution_count": null,
   "id": "d01348c9",
   "metadata": {},
   "outputs": [],
   "source": [
    "def plot(var, units='%'):\n",
    "    df = pd.read_csv(f'../Data/{var}.csv')\n",
    "    multiplier = 100 if units == '%' else 1\n",
    "    fig = go.Figure(\n",
    "        data=go.Scatter(x=df[var] * multiplier, y=df['delta'], name='Trace', mode='markers+lines'),\n",
    "    )\n",
    "    add_baseline(fig, var, multiplier)\n",
    "    fig.update_layout(\n",
    "        xaxis_title=f'{titleize(var)} ({units})',\n",
    "        yaxis_title='Delta (£)',\n",
    "    )\n",
    "    fig.show()\n",
    "    slope = np.gradient(df['delta'])\n",
    "    print(f'gradient: [{slope.min():.0f}, {slope.max():.0f}]')\n",
    "\n",
    "def add_baseline(fig, var, multiplier):\n",
    "    df = pd.read_csv('../Data/baseline.csv')\n",
    "    fig.add_trace(go.Scatter(\n",
    "        x=df[var] * multiplier,\n",
    "        y=df['delta'],\n",
    "        mode=\"markers+text\",\n",
    "        name=\"Baseline\",\n",
    "        text=[\"Baseline\"],\n",
    "        textposition=\"bottom center\",\n",
    "    ))"
   ]
  },
  {
   "cell_type": "markdown",
   "id": "69a7f95e",
   "metadata": {},
   "source": [
    "## Baseline"
   ]
  },
  {
   "cell_type": "code",
   "execution_count": null,
   "id": "a857f42b",
   "metadata": {},
   "outputs": [],
   "source": [
    "df = pd.read_csv('../Data/baseline.csv')\n",
    "df.transpose()"
   ]
  },
  {
   "cell_type": "markdown",
   "id": "9557bd4e",
   "metadata": {},
   "source": [
    "## Property Value Increase Sensistivity\n",
    "\n",
    "Each 1%pt increase of yearly property value growth results in approx. +£[6k, 16k] net worth in the 5-year purchase scenario."
   ]
  },
  {
   "cell_type": "code",
   "execution_count": null,
   "id": "d9dda5d9",
   "metadata": {},
   "outputs": [],
   "source": [
    "plot('propertyValueYearlyIncrease')"
   ]
  },
  {
   "cell_type": "markdown",
   "id": "50c910c0",
   "metadata": {},
   "source": [
    "## Mortgage Interest Rate Sensistivity\n",
    "\n",
    "Each 1%pt increase in mortgage interest rate results in approx. -£10k net worth in the 5-year purchase scenario."
   ]
  },
  {
   "cell_type": "code",
   "execution_count": null,
   "id": "bb9ff990",
   "metadata": {},
   "outputs": [],
   "source": [
    "plot('mortgageInterestRate')"
   ]
  },
  {
   "cell_type": "markdown",
   "id": "1b6a918f",
   "metadata": {},
   "source": [
    "## Savings Interest Rate Sensistivity\n",
    "\n",
    "A 1%pt increase in savings interest rate results in approx. -[£500, £3k] net worth in the 5-year purchase scenario."
   ]
  },
  {
   "cell_type": "code",
   "execution_count": null,
   "id": "8b4f4c60",
   "metadata": {},
   "outputs": [],
   "source": [
    "plot('savingsInterestRate')"
   ]
  },
  {
   "cell_type": "markdown",
   "id": "60a5c065",
   "metadata": {},
   "source": [
    "## Rent Price Sensitivity\n",
    "\n",
    "Each £100 increase in initial monthly rent results in approx. +£7,200 net worth in the 5-year purchase scenario."
   ]
  },
  {
   "cell_type": "code",
   "execution_count": null,
   "id": "13ba3904",
   "metadata": {},
   "outputs": [],
   "source": [
    "plot('initialMonthlyRentPrice', '£')"
   ]
  }
 ],
 "metadata": {
  "kernelspec": {
   "display_name": "Python 3 (ipykernel)",
   "language": "python",
   "name": "python3"
  },
  "language_info": {
   "codemirror_mode": {
    "name": "ipython",
    "version": 3
   },
   "file_extension": ".py",
   "mimetype": "text/x-python",
   "name": "python",
   "nbconvert_exporter": "python",
   "pygments_lexer": "ipython3",
   "version": "3.11.5"
  }
 },
 "nbformat": 4,
 "nbformat_minor": 5
}
