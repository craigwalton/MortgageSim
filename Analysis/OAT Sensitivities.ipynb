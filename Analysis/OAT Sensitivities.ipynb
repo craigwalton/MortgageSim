{
 "cells": [
  {
   "cell_type": "code",
   "execution_count": null,
   "id": "35e7fead",
   "metadata": {},
   "outputs": [],
   "source": [
    "import pandas as pd\n",
    "import plotly.graph_objects as go\n",
    "import plotly.express as px\n",
    "import numpy as np"
   ]
  },
  {
   "cell_type": "markdown",
   "id": "d4743b88",
   "metadata": {},
   "source": [
    "This notebook compares sensitivities of individual variables, changing one-at-a-time (OAT)."
   ]
  },
  {
   "cell_type": "markdown",
   "id": "5c20f961",
   "metadata": {},
   "source": [
    "## Baseline"
   ]
  },
  {
   "cell_type": "code",
   "execution_count": null,
   "id": "5e1790dc",
   "metadata": {},
   "outputs": [],
   "source": [
    "df = pd.read_csv('../Data/baseline.csv')\n",
    "df.transpose()"
   ]
  },
  {
   "cell_type": "markdown",
   "id": "2668ba0c",
   "metadata": {},
   "source": [
    "## Mortgage Interest Rate Sensistivity\n",
    "\n",
    "Each 1%pt increase in mortgage interest rate results in approx. £10k in favour of renting."
   ]
  },
  {
   "cell_type": "code",
   "execution_count": null,
   "id": "ee9e567c",
   "metadata": {},
   "outputs": [],
   "source": [
    "df = pd.read_csv('../Data/mortgageInterestRate.csv')\n",
    "px.line(df, x='mortgageInterestRate', y='delta').show()\n",
    "slope = np.gradient(df['delta'])\n",
    "px.line(slope).show()"
   ]
  },
  {
   "cell_type": "markdown",
   "id": "2f7f586d",
   "metadata": {},
   "source": [
    "## Savings Interest Rate Sensistivity\n",
    "\n",
    "A 1%pt increase in savings interest rate results in approx. £500-£3,000 in favour of renting."
   ]
  },
  {
   "cell_type": "code",
   "execution_count": null,
   "id": "f00d9010",
   "metadata": {},
   "outputs": [],
   "source": [
    "df = pd.read_csv('../Data/savingsInterestRate.csv')\n",
    "px.line(df, x='savingsInterestRate', y='delta').show()\n",
    "slope = np.gradient(df['delta'])\n",
    "px.line(slope).show()"
   ]
  },
  {
   "cell_type": "markdown",
   "id": "ecd830a2",
   "metadata": {},
   "source": [
    "## Rent Price Sensitivity\n",
    "\n",
    "Each £100 increase in initial monthly rent results in approx. £7,200 against renting."
   ]
  },
  {
   "cell_type": "code",
   "execution_count": null,
   "id": "1f82e79a",
   "metadata": {},
   "outputs": [],
   "source": [
    "df = pd.read_csv('../Data/initialMonthlyRentPrice.csv')\n",
    "px.line(df, x='initialMonthlyRentPrice', y='delta').show()\n",
    "slope = np.gradient(df['delta'])\n",
    "px.line(slope).show()"
   ]
  }
 ],
 "metadata": {
  "kernelspec": {
   "display_name": "Python 3 (ipykernel)",
   "language": "python",
   "name": "python3"
  },
  "language_info": {
   "codemirror_mode": {
    "name": "ipython",
    "version": 3
   },
   "file_extension": ".py",
   "mimetype": "text/x-python",
   "name": "python",
   "nbconvert_exporter": "python",
   "pygments_lexer": "ipython3",
   "version": "3.11.5"
  }
 },
 "nbformat": 4,
 "nbformat_minor": 5
}
