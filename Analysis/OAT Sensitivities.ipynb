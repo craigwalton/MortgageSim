{
 "cells": [
  {
   "cell_type": "code",
   "execution_count": null,
   "id": "5b3eb4dc",
   "metadata": {},
   "outputs": [],
   "source": [
    "import pandas as pd\n",
    "import plotly.graph_objects as go\n",
    "import plotly.express as px\n",
    "import numpy as np"
   ]
  },
  {
   "cell_type": "markdown",
   "id": "a16f80fc",
   "metadata": {},
   "source": [
    "This notebook compares sensitivities of individual variables, changing one-at-a-time (OAT)."
   ]
  },
  {
   "cell_type": "markdown",
   "id": "9d911914",
   "metadata": {},
   "source": [
    "## Baseline"
   ]
  },
  {
   "cell_type": "code",
   "execution_count": null,
   "id": "d5bf3015",
   "metadata": {},
   "outputs": [],
   "source": [
    "df = pd.read_csv('../Data/baseline.csv')\n",
    "df.transpose()"
   ]
  },
  {
   "cell_type": "markdown",
   "id": "4a14431c",
   "metadata": {},
   "source": [
    "## Property Value Increase Sensistivity\n",
    "\n",
    "Each 1%pt increase of yearly property value growth results in approx. +£[6k, 16k] net worth in the 5-year purchase scenario."
   ]
  },
  {
   "cell_type": "code",
   "execution_count": null,
   "id": "3575a017",
   "metadata": {},
   "outputs": [],
   "source": [
    "df = pd.read_csv('../Data/propertyValueYearlyIncrease.csv')\n",
    "px.line(df, x='propertyValueYearlyIncrease', y='delta').show()\n",
    "slope = np.gradient(df['delta'])\n",
    "px.line(slope).show()"
   ]
  },
  {
   "cell_type": "markdown",
   "id": "e5c65ef6",
   "metadata": {},
   "source": [
    "## Mortgage Interest Rate Sensistivity\n",
    "\n",
    "Each 1%pt increase in mortgage interest rate results in approx. -£10k net worth in the 5-year purchase scenario."
   ]
  },
  {
   "cell_type": "code",
   "execution_count": null,
   "id": "5687d326",
   "metadata": {},
   "outputs": [],
   "source": [
    "df = pd.read_csv('../Data/mortgageInterestRate.csv')\n",
    "px.line(df, x='mortgageInterestRate', y='delta').show()\n",
    "slope = np.gradient(df['delta'])\n",
    "px.line(slope).show()"
   ]
  },
  {
   "cell_type": "markdown",
   "id": "4e1fa429",
   "metadata": {},
   "source": [
    "## Savings Interest Rate Sensistivity\n",
    "\n",
    "A 1%pt increase in savings interest rate results in approx. -[£500, £3k] net worth in the 5-year purchase scenario."
   ]
  },
  {
   "cell_type": "code",
   "execution_count": null,
   "id": "4b70d4c0",
   "metadata": {},
   "outputs": [],
   "source": [
    "df = pd.read_csv('../Data/savingsInterestRate.csv')\n",
    "px.line(df, x='savingsInterestRate', y='delta').show()\n",
    "slope = np.gradient(df['delta'])\n",
    "px.line(slope).show()"
   ]
  },
  {
   "cell_type": "markdown",
   "id": "e7005fe5",
   "metadata": {},
   "source": [
    "## Rent Price Sensitivity\n",
    "\n",
    "Each £100 increase in initial monthly rent results in approx. +£7,200 net worth in the 5-year purchase scenario."
   ]
  },
  {
   "cell_type": "code",
   "execution_count": null,
   "id": "dc749cb1",
   "metadata": {},
   "outputs": [],
   "source": [
    "df = pd.read_csv('../Data/initialMonthlyRentPrice.csv')\n",
    "px.line(df, x='initialMonthlyRentPrice', y='delta').show()\n",
    "slope = np.gradient(df['delta'])\n",
    "px.line(slope).show()"
   ]
  }
 ],
 "metadata": {
  "kernelspec": {
   "display_name": "Python 3 (ipykernel)",
   "language": "python",
   "name": "python3"
  },
  "language_info": {
   "codemirror_mode": {
    "name": "ipython",
    "version": 3
   },
   "file_extension": ".py",
   "mimetype": "text/x-python",
   "name": "python",
   "nbconvert_exporter": "python",
   "pygments_lexer": "ipython3",
   "version": "3.11.5"
  }
 },
 "nbformat": 4,
 "nbformat_minor": 5
}
