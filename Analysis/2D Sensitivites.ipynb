{
 "cells": [
  {
   "cell_type": "code",
   "execution_count": null,
   "id": "39829426",
   "metadata": {},
   "outputs": [],
   "source": [
    "import pandas as pd\n",
    "import plotly.graph_objects as go"
   ]
  },
  {
   "cell_type": "code",
   "execution_count": null,
   "id": "5f7ee339",
   "metadata": {},
   "outputs": [],
   "source": [
    "def plot_contour_2d(var1, var2):\n",
    "    df = pd.read_csv(f'../Data/{var1}-{var2}.csv')\n",
    "    fig = go.Figure(data=\n",
    "        go.Contour(\n",
    "            x=df[var1],\n",
    "            y=df[var2],\n",
    "            z=df['delta'],\n",
    "            colorscale='RdBu',\n",
    "            contours=dict(\n",
    "                coloring='heatmap',\n",
    "                size=50_000,\n",
    "                showlabels=True,\n",
    "                start=-400000,\n",
    "                end=400000,\n",
    "            )\n",
    "        )\n",
    "    )\n",
    "    fig.update_layout(\n",
    "        xaxis_title=var1,\n",
    "        yaxis_title=var2,\n",
    "    )\n",
    "    fig.show()"
   ]
  },
  {
   "cell_type": "code",
   "execution_count": null,
   "id": "49a97c52",
   "metadata": {},
   "outputs": [],
   "source": [
    "plot_contour_2d('mortgageInterestRate', 'savingsInterestRate')"
   ]
  },
  {
   "cell_type": "code",
   "execution_count": null,
   "id": "70e96e51",
   "metadata": {},
   "outputs": [],
   "source": [
    "plot_contour_2d('initialPropertyValue', 'initialMonthlyRentPrice')"
   ]
  },
  {
   "cell_type": "code",
   "execution_count": null,
   "id": "f456e3bd",
   "metadata": {},
   "outputs": [],
   "source": [
    "plot_contour_2d('mortgageInterestRate', 'propertyValueYearlyIncrease')"
   ]
  }
 ],
 "metadata": {
  "kernelspec": {
   "display_name": "Python 3 (ipykernel)",
   "language": "python",
   "name": "python3"
  },
  "language_info": {
   "codemirror_mode": {
    "name": "ipython",
    "version": 3
   },
   "file_extension": ".py",
   "mimetype": "text/x-python",
   "name": "python",
   "nbconvert_exporter": "python",
   "pygments_lexer": "ipython3",
   "version": "3.11.5"
  }
 },
 "nbformat": 4,
 "nbformat_minor": 5
}
