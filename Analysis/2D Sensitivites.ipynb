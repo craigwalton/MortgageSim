{
 "cells": [
  {
   "cell_type": "code",
   "execution_count": null,
   "id": "83a2ea50",
   "metadata": {},
   "outputs": [],
   "source": [
    "import pandas as pd\n",
    "import plotly.graph_objects as go"
   ]
  },
  {
   "cell_type": "markdown",
   "id": "02343d7f",
   "metadata": {},
   "source": [
    "This notebook compares sensitivities of 2 variables per plot, sweeping through a range of plasible values for each variable."
   ]
  },
  {
   "cell_type": "code",
   "execution_count": null,
   "id": "61524dbe",
   "metadata": {},
   "outputs": [],
   "source": [
    "def plot_contour_2d(var1, var2):\n",
    "    df = pd.read_csv(f'../Data/{var1}-{var2}.csv')\n",
    "    fig = go.Figure(data=\n",
    "        go.Contour(\n",
    "            x=df[var1],\n",
    "            y=df[var2],\n",
    "            z=df['delta'],\n",
    "            colorscale='RdBu',\n",
    "            contours=dict(\n",
    "                coloring='heatmap',\n",
    "                size=50_000,\n",
    "                showlabels=True,\n",
    "                start=-400000,\n",
    "                end=400000,\n",
    "            )\n",
    "        )\n",
    "    )\n",
    "    fig.update_layout(\n",
    "        xaxis_title=var1,\n",
    "        yaxis_title=var2,\n",
    "    )\n",
    "    fig.show()"
   ]
  },
  {
   "cell_type": "markdown",
   "id": "e4355918",
   "metadata": {},
   "source": [
    "## Baseline"
   ]
  },
  {
   "cell_type": "code",
   "execution_count": null,
   "id": "c3065bfb",
   "metadata": {},
   "outputs": [],
   "source": [
    "df = pd.read_csv('../Data/baseline.csv')\n",
    "df.transpose()"
   ]
  },
  {
   "cell_type": "markdown",
   "id": "7fd847ec",
   "metadata": {},
   "source": [
    "## Mortgage interest rates and savings interest rates"
   ]
  },
  {
   "cell_type": "code",
   "execution_count": null,
   "id": "b412a478",
   "metadata": {},
   "outputs": [],
   "source": [
    "plot_contour_2d('mortgageInterestRate', 'savingsInterestRate')"
   ]
  },
  {
   "cell_type": "markdown",
   "id": "7d1dc07a",
   "metadata": {},
   "source": [
    "## Mortgage interest rates versus property value growth"
   ]
  },
  {
   "cell_type": "code",
   "execution_count": null,
   "id": "b27ad9c3",
   "metadata": {},
   "outputs": [],
   "source": [
    "plot_contour_2d('mortgageInterestRate', 'propertyValueYearlyIncrease')"
   ]
  },
  {
   "cell_type": "markdown",
   "id": "551e32ca",
   "metadata": {},
   "source": [
    "## Rent: initial and growth"
   ]
  },
  {
   "cell_type": "code",
   "execution_count": null,
   "id": "6feaf9b3",
   "metadata": {},
   "outputs": [],
   "source": [
    "plot_contour_2d('initialMonthlyRentPrice', 'rentPriceYearlyIncrease')"
   ]
  },
  {
   "cell_type": "markdown",
   "id": "c900f48d",
   "metadata": {},
   "source": [
    "## Property value versus monthly rent"
   ]
  },
  {
   "cell_type": "code",
   "execution_count": null,
   "id": "399e1be1",
   "metadata": {},
   "outputs": [],
   "source": [
    "plot_contour_2d('initialPropertyValue', 'initialMonthlyRentPrice')"
   ]
  }
 ],
 "metadata": {
  "kernelspec": {
   "display_name": "Python 3 (ipykernel)",
   "language": "python",
   "name": "python3"
  },
  "language_info": {
   "codemirror_mode": {
    "name": "ipython",
    "version": 3
   },
   "file_extension": ".py",
   "mimetype": "text/x-python",
   "name": "python",
   "nbconvert_exporter": "python",
   "pygments_lexer": "ipython3",
   "version": "3.11.5"
  }
 },
 "nbformat": 4,
 "nbformat_minor": 5
}
