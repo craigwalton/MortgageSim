{
 "cells": [
  {
   "cell_type": "code",
   "execution_count": null,
   "id": "99725e5f",
   "metadata": {},
   "outputs": [],
   "source": [
    "import pandas as pd\n",
    "import plotly.graph_objects as go\n",
    "from inflection import titleize"
   ]
  },
  {
   "cell_type": "markdown",
   "id": "ec3e1260",
   "metadata": {},
   "source": [
    "This notebook compares sensitivities of 2 variables per plot, sweeping through a range of plausible values for each variable.\n",
    "\n",
    "A positive `delta` indicates that buying would result in a financial gain over renting after 5 years."
   ]
  },
  {
   "cell_type": "code",
   "execution_count": null,
   "id": "4bc84e16",
   "metadata": {},
   "outputs": [],
   "source": [
    "def plot_contour_2d(var_1, var_1_units, var_2, var_2_units):\n",
    "    df = pd.read_csv(f'../Data/{var_1}-{var_2}.csv')\n",
    "    var_1_multiplier = infer_multipler(var_1_units)\n",
    "    var_2_multiplier = infer_multipler(var_2_units)\n",
    "    fig = go.Figure(data=\n",
    "        go.Contour(\n",
    "            x=df[var_1] * var_1_multiplier,\n",
    "            y=df[var_2] * var_2_multiplier,\n",
    "            z=df['delta'],\n",
    "            colorscale='RdBu',\n",
    "            contours=dict(\n",
    "                coloring='heatmap',\n",
    "                size=50_000,\n",
    "                showlabels=True,\n",
    "                start=-300000,\n",
    "                end=300000,\n",
    "            )\n",
    "        )\n",
    "    )\n",
    "    add_baseline(fig, var_1, var_1_multiplier, var_2, var_2_multiplier)\n",
    "    fig.update_layout(\n",
    "        xaxis_title=f'{titleize(var_1)} ({var_1_units})',\n",
    "        yaxis_title=f'{titleize(var_2)} ({var_2_units})',\n",
    "    )\n",
    "    fig.show()\n",
    "\n",
    "def infer_multipler(units):\n",
    "    return 100 if units == '%' else 1\n",
    "\n",
    "def add_baseline(fig, var_1, var_1_multiplier, var_2, var_2_multiplier):\n",
    "    df = pd.read_csv('../Data/baseline.csv')\n",
    "    fig.add_trace(go.Scatter(\n",
    "        x=df[var_1] * var_1_multiplier,\n",
    "        y=df[var_2] * var_2_multiplier,\n",
    "        mode=\"markers+text\",\n",
    "        name=\"Baseline\",\n",
    "        text=[\"Baseline\"],\n",
    "        textposition=\"bottom center\"\n",
    "    ))"
   ]
  },
  {
   "cell_type": "markdown",
   "id": "59b55c2b",
   "metadata": {},
   "source": [
    "## Baseline"
   ]
  },
  {
   "cell_type": "code",
   "execution_count": null,
   "id": "1204f041",
   "metadata": {},
   "outputs": [],
   "source": [
    "df = pd.read_csv('../Data/baseline.csv')\n",
    "df.transpose()"
   ]
  },
  {
   "cell_type": "markdown",
   "id": "9bc5f673",
   "metadata": {},
   "source": [
    "## Mortgage interest rates and savings interest rates"
   ]
  },
  {
   "cell_type": "code",
   "execution_count": null,
   "id": "742c8603",
   "metadata": {},
   "outputs": [],
   "source": [
    "plot_contour_2d('mortgageInterestRate', '%', 'savingsInterestRate', '%')"
   ]
  },
  {
   "cell_type": "markdown",
   "id": "6bb32376",
   "metadata": {},
   "source": [
    "## Mortgage interest rates versus property value growth"
   ]
  },
  {
   "cell_type": "code",
   "execution_count": null,
   "id": "735214b3",
   "metadata": {},
   "outputs": [],
   "source": [
    "plot_contour_2d('mortgageInterestRate', '%', 'propertyValueYearlyIncrease', '%')"
   ]
  },
  {
   "cell_type": "markdown",
   "id": "6fcb3c80",
   "metadata": {},
   "source": [
    "## Rent: initial and growth"
   ]
  },
  {
   "cell_type": "code",
   "execution_count": null,
   "id": "51d348c8",
   "metadata": {},
   "outputs": [],
   "source": [
    "plot_contour_2d('initialMonthlyRentPrice', '£', 'rentPriceYearlyIncrease', '%')"
   ]
  },
  {
   "cell_type": "markdown",
   "id": "0969a0e8",
   "metadata": {},
   "source": [
    "## Property value versus monthly rent"
   ]
  },
  {
   "cell_type": "code",
   "execution_count": null,
   "id": "a9dbe0ab",
   "metadata": {},
   "outputs": [],
   "source": [
    "plot_contour_2d('initialPropertyValue', '£', 'initialMonthlyRentPrice', '£')"
   ]
  }
 ],
 "metadata": {
  "kernelspec": {
   "display_name": "Python 3 (ipykernel)",
   "language": "python",
   "name": "python3"
  },
  "language_info": {
   "codemirror_mode": {
    "name": "ipython",
    "version": 3
   },
   "file_extension": ".py",
   "mimetype": "text/x-python",
   "name": "python",
   "nbconvert_exporter": "python",
   "pygments_lexer": "ipython3",
   "version": "3.11.5"
  }
 },
 "nbformat": 4,
 "nbformat_minor": 5
}
